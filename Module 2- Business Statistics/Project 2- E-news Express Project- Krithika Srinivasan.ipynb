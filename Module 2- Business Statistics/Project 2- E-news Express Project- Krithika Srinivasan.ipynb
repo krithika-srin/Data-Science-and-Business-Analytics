{
 "cells": [
  {
   "cell_type": "code",
   "execution_count": 50,
   "id": "8f676132",
   "metadata": {},
   "outputs": [],
   "source": [
    "import pandas as pd\n",
    "import numpy as np\n",
    "import seaborn as sns\n",
    "import matplotlib.pyplot as plt\n",
    "import scipy.stats"
   ]
  },
  {
   "cell_type": "markdown",
   "id": "a01cde16",
   "metadata": {},
   "source": [
    "You are expected to perform the statistical analysis to answer the following questions: <br>\n",
    "\n",
    "1. Explore the dataset and extract insights using Exploratory Data Analysis. <br>\n",
    "2. Do the users spend more time on the new landing page than the old landing page? <br>\n",
    "3. Is the conversion rate (the proportion of users who visit the landing page and get converted) for the new page greater than the conversion rate for the old page? <br>\n",
    "4. Does the converted status depend on the preferred language? [Hint: Create a contingency table using the pandas.crosstab() function] <br>\n",
    "5. Is the mean time spent on the new page same for the different language users? <br>\n",
    "*Consider a significance level of 0.05 for all tests."
   ]
  },
  {
   "cell_type": "code",
   "execution_count": 10,
   "id": "0fad7fe9",
   "metadata": {
    "scrolled": true
   },
   "outputs": [
    {
     "data": {
      "text/html": [
       "<div>\n",
       "<style scoped>\n",
       "    .dataframe tbody tr th:only-of-type {\n",
       "        vertical-align: middle;\n",
       "    }\n",
       "\n",
       "    .dataframe tbody tr th {\n",
       "        vertical-align: top;\n",
       "    }\n",
       "\n",
       "    .dataframe thead th {\n",
       "        text-align: right;\n",
       "    }\n",
       "</style>\n",
       "<table border=\"1\" class=\"dataframe\">\n",
       "  <thead>\n",
       "    <tr style=\"text-align: right;\">\n",
       "      <th></th>\n",
       "      <th>user_id</th>\n",
       "      <th>group</th>\n",
       "      <th>landing_page</th>\n",
       "      <th>time_spent_on_the_page</th>\n",
       "      <th>converted</th>\n",
       "      <th>language_preferred</th>\n",
       "    </tr>\n",
       "  </thead>\n",
       "  <tbody>\n",
       "    <tr>\n",
       "      <th>0</th>\n",
       "      <td>546592</td>\n",
       "      <td>control</td>\n",
       "      <td>old</td>\n",
       "      <td>3.48</td>\n",
       "      <td>no</td>\n",
       "      <td>Spanish</td>\n",
       "    </tr>\n",
       "    <tr>\n",
       "      <th>1</th>\n",
       "      <td>546468</td>\n",
       "      <td>treatment</td>\n",
       "      <td>new</td>\n",
       "      <td>7.13</td>\n",
       "      <td>yes</td>\n",
       "      <td>English</td>\n",
       "    </tr>\n",
       "    <tr>\n",
       "      <th>2</th>\n",
       "      <td>546462</td>\n",
       "      <td>treatment</td>\n",
       "      <td>new</td>\n",
       "      <td>4.40</td>\n",
       "      <td>no</td>\n",
       "      <td>Spanish</td>\n",
       "    </tr>\n",
       "    <tr>\n",
       "      <th>3</th>\n",
       "      <td>546567</td>\n",
       "      <td>control</td>\n",
       "      <td>old</td>\n",
       "      <td>3.02</td>\n",
       "      <td>no</td>\n",
       "      <td>French</td>\n",
       "    </tr>\n",
       "    <tr>\n",
       "      <th>4</th>\n",
       "      <td>546459</td>\n",
       "      <td>treatment</td>\n",
       "      <td>new</td>\n",
       "      <td>4.75</td>\n",
       "      <td>yes</td>\n",
       "      <td>Spanish</td>\n",
       "    </tr>\n",
       "  </tbody>\n",
       "</table>\n",
       "</div>"
      ],
      "text/plain": [
       "   user_id      group landing_page  time_spent_on_the_page converted  \\\n",
       "0   546592    control          old                    3.48        no   \n",
       "1   546468  treatment          new                    7.13       yes   \n",
       "2   546462  treatment          new                    4.40        no   \n",
       "3   546567    control          old                    3.02        no   \n",
       "4   546459  treatment          new                    4.75       yes   \n",
       "\n",
       "  language_preferred  \n",
       "0            Spanish  \n",
       "1            English  \n",
       "2            Spanish  \n",
       "3             French  \n",
       "4            Spanish  "
      ]
     },
     "execution_count": 10,
     "metadata": {},
     "output_type": "execute_result"
    }
   ],
   "source": [
    "# loading the data and preview\n",
    "abtest = pd.read_csv('C:\\\\Users\\\\KXS26XY\\\\OneDrive - The Home Depot\\\\Desktop\\\\Data Science and Business Analytics\\\\abtest.csv')\n",
    "abtest.head(5)"
   ]
  },
  {
   "cell_type": "markdown",
   "id": "d5050921",
   "metadata": {},
   "source": [
    "# Data background and contents"
   ]
  },
  {
   "cell_type": "code",
   "execution_count": 11,
   "id": "7e8f6d60",
   "metadata": {},
   "outputs": [
    {
     "data": {
      "text/plain": [
       "(100, 6)"
      ]
     },
     "execution_count": 11,
     "metadata": {},
     "output_type": "execute_result"
    }
   ],
   "source": [
    "# Checking the number of rows and columns in the dataset\n",
    "abtest.shape"
   ]
  },
  {
   "cell_type": "code",
   "execution_count": 12,
   "id": "ca9ce981",
   "metadata": {},
   "outputs": [
    {
     "data": {
      "text/plain": [
       "user_id                     int64\n",
       "group                      object\n",
       "landing_page               object\n",
       "time_spent_on_the_page    float64\n",
       "converted                  object\n",
       "language_preferred         object\n",
       "dtype: object"
      ]
     },
     "execution_count": 12,
     "metadata": {},
     "output_type": "execute_result"
    }
   ],
   "source": [
    "# Checking the data type of each column\n",
    "abtest.dtypes"
   ]
  },
  {
   "cell_type": "code",
   "execution_count": 13,
   "id": "795058aa",
   "metadata": {
    "scrolled": false
   },
   "outputs": [
    {
     "data": {
      "text/plain": [
       "user_id                   0\n",
       "group                     0\n",
       "landing_page              0\n",
       "time_spent_on_the_page    0\n",
       "converted                 0\n",
       "language_preferred        0\n",
       "dtype: int64"
      ]
     },
     "execution_count": 13,
     "metadata": {},
     "output_type": "execute_result"
    }
   ],
   "source": [
    "# Checking if any of the numeric values are null\n",
    "abtest.isnull().sum()"
   ]
  },
  {
   "cell_type": "markdown",
   "id": "ba2cc3f3",
   "metadata": {},
   "source": [
    "# Univariate Analysis"
   ]
  },
  {
   "cell_type": "code",
   "execution_count": 14,
   "id": "497a217a",
   "metadata": {},
   "outputs": [
    {
     "data": {
      "text/html": [
       "<div>\n",
       "<style scoped>\n",
       "    .dataframe tbody tr th:only-of-type {\n",
       "        vertical-align: middle;\n",
       "    }\n",
       "\n",
       "    .dataframe tbody tr th {\n",
       "        vertical-align: top;\n",
       "    }\n",
       "\n",
       "    .dataframe thead th {\n",
       "        text-align: right;\n",
       "    }\n",
       "</style>\n",
       "<table border=\"1\" class=\"dataframe\">\n",
       "  <thead>\n",
       "    <tr style=\"text-align: right;\">\n",
       "      <th></th>\n",
       "      <th>user_id</th>\n",
       "      <th>time_spent_on_the_page</th>\n",
       "    </tr>\n",
       "  </thead>\n",
       "  <tbody>\n",
       "    <tr>\n",
       "      <th>count</th>\n",
       "      <td>100.000000</td>\n",
       "      <td>100.000000</td>\n",
       "    </tr>\n",
       "    <tr>\n",
       "      <th>mean</th>\n",
       "      <td>546517.000000</td>\n",
       "      <td>5.377800</td>\n",
       "    </tr>\n",
       "    <tr>\n",
       "      <th>std</th>\n",
       "      <td>52.295779</td>\n",
       "      <td>2.378166</td>\n",
       "    </tr>\n",
       "    <tr>\n",
       "      <th>min</th>\n",
       "      <td>546443.000000</td>\n",
       "      <td>0.190000</td>\n",
       "    </tr>\n",
       "    <tr>\n",
       "      <th>25%</th>\n",
       "      <td>546467.750000</td>\n",
       "      <td>3.880000</td>\n",
       "    </tr>\n",
       "    <tr>\n",
       "      <th>50%</th>\n",
       "      <td>546492.500000</td>\n",
       "      <td>5.415000</td>\n",
       "    </tr>\n",
       "    <tr>\n",
       "      <th>75%</th>\n",
       "      <td>546567.250000</td>\n",
       "      <td>7.022500</td>\n",
       "    </tr>\n",
       "    <tr>\n",
       "      <th>max</th>\n",
       "      <td>546592.000000</td>\n",
       "      <td>10.710000</td>\n",
       "    </tr>\n",
       "  </tbody>\n",
       "</table>\n",
       "</div>"
      ],
      "text/plain": [
       "             user_id  time_spent_on_the_page\n",
       "count     100.000000              100.000000\n",
       "mean   546517.000000                5.377800\n",
       "std        52.295779                2.378166\n",
       "min    546443.000000                0.190000\n",
       "25%    546467.750000                3.880000\n",
       "50%    546492.500000                5.415000\n",
       "75%    546567.250000                7.022500\n",
       "max    546592.000000               10.710000"
      ]
     },
     "execution_count": 14,
     "metadata": {},
     "output_type": "execute_result"
    }
   ],
   "source": [
    "# Understanding the mean, min, max etc. of the time_spent_on_the_page column\n",
    "# Need to look at the mean by page instead of it as a whole\n",
    "abtest.describe()"
   ]
  },
  {
   "cell_type": "code",
   "execution_count": 15,
   "id": "2e48bd68",
   "metadata": {},
   "outputs": [
    {
     "data": {
      "text/plain": [
       "user_id                   50\n",
       "group                     50\n",
       "landing_page              50\n",
       "time_spent_on_the_page    50\n",
       "converted                 50\n",
       "language_preferred        50\n",
       "dtype: int64"
      ]
     },
     "execution_count": 15,
     "metadata": {},
     "output_type": "execute_result"
    }
   ],
   "source": [
    "# abtest[abtest['landing_page'] == 'new'].count()\n",
    "abtest[abtest['landing_page'] == 'old'].count()"
   ]
  },
  {
   "cell_type": "code",
   "execution_count": 16,
   "id": "7df51ccf",
   "metadata": {},
   "outputs": [
    {
     "data": {
      "text/plain": [
       "landing_page\n",
       "new    6.2232\n",
       "old    4.5324\n",
       "Name: time_spent_on_the_page, dtype: float64"
      ]
     },
     "execution_count": 16,
     "metadata": {},
     "output_type": "execute_result"
    }
   ],
   "source": [
    "# Mean calculation- sample means\n",
    "abtest['time_spent_on_the_page'].groupby(abtest['landing_page']).mean()"
   ]
  },
  {
   "cell_type": "code",
   "execution_count": 17,
   "id": "18998b35",
   "metadata": {},
   "outputs": [
    {
     "data": {
      "text/plain": [
       "landing_page\n",
       "new    1.817031\n",
       "old    2.581975\n",
       "Name: time_spent_on_the_page, dtype: float64"
      ]
     },
     "execution_count": 17,
     "metadata": {},
     "output_type": "execute_result"
    }
   ],
   "source": [
    "# Std deviation calculation- sample standard deviation\n",
    "abtest['time_spent_on_the_page'].groupby(abtest['landing_page']).std()"
   ]
  },
  {
   "cell_type": "code",
   "execution_count": 18,
   "id": "9194745f",
   "metadata": {},
   "outputs": [
    {
     "data": {
      "image/png": "[encoded data removed]",
      "text/plain": [
       "<Figure size 360x360 with 1 Axes>"
      ]
     },
     "metadata": {
      "needs_background": "light"
     },
     "output_type": "display_data"
    }
   ],
   "source": [
    "sns.displot(abtest['time_spent_on_the_page'], kde=True);"
   ]
  },
  {
   "cell_type": "code",
   "execution_count": 19,
   "id": "3eae52e5",
   "metadata": {},
   "outputs": [
    {
     "name": "stderr",
     "output_type": "stream",
     "text": [
      "C:\\Users\\KXS26XY\\AppData\\Local\\Continuum\\anaconda3\\lib\\site-packages\\seaborn\\_decorators.py:43: FutureWarning: Pass the following variables as keyword args: x, y. From version 0.12, the only valid positional argument will be `data`, and passing other arguments without an explicit keyword will result in an error or misinterpretation.\n",
      "  FutureWarning\n"
     ]
    },
    {
     "data": {
      "image/png": "[encoded data removed]",
      "text/plain": [
       "<Figure size 432x288 with 1 Axes>"
      ]
     },
     "metadata": {
      "needs_background": "light"
     },
     "output_type": "display_data"
    }
   ],
   "source": [
    "sns.boxplot(abtest['landing_page'], abtest['time_spent_on_the_page']);"
   ]
  },
  {
   "cell_type": "markdown",
   "id": "f0865193",
   "metadata": {},
   "source": [
    "The mean time spent on the new page is higher than the mean time spent on the old page"
   ]
  },
  {
   "cell_type": "code",
   "execution_count": 20,
   "id": "b0a9487c",
   "metadata": {},
   "outputs": [
    {
     "name": "stderr",
     "output_type": "stream",
     "text": [
      "C:\\Users\\KXS26XY\\AppData\\Local\\Continuum\\anaconda3\\lib\\site-packages\\seaborn\\_decorators.py:43: FutureWarning: Pass the following variable as a keyword arg: x. From version 0.12, the only valid positional argument will be `data`, and passing other arguments without an explicit keyword will result in an error or misinterpretation.\n",
      "  FutureWarning\n"
     ]
    },
    {
     "data": {
      "image/png": "[encoded data removed]",
      "text/plain": [
       "<Figure size 432x288 with 1 Axes>"
      ]
     },
     "metadata": {
      "needs_background": "light"
     },
     "output_type": "display_data"
    }
   ],
   "source": [
    "sns.countplot(abtest['converted'], hue = abtest['group']);"
   ]
  },
  {
   "cell_type": "markdown",
   "id": "e08b8d03",
   "metadata": {},
   "source": [
    "The number of conversions (yes) is greater in the treatment group <br>\n",
    "The number of non-conversions (no) is greater in the control group"
   ]
  },
  {
   "cell_type": "markdown",
   "id": "e20d1f93",
   "metadata": {},
   "source": [
    "# Bivariate Analysis"
   ]
  },
  {
   "cell_type": "code",
   "execution_count": 21,
   "id": "8d32aaca",
   "metadata": {},
   "outputs": [
    {
     "data": {
      "text/html": [
       "<div>\n",
       "<style scoped>\n",
       "    .dataframe tbody tr th:only-of-type {\n",
       "        vertical-align: middle;\n",
       "    }\n",
       "\n",
       "    .dataframe tbody tr th {\n",
       "        vertical-align: top;\n",
       "    }\n",
       "\n",
       "    .dataframe thead th {\n",
       "        text-align: right;\n",
       "    }\n",
       "</style>\n",
       "<table border=\"1\" class=\"dataframe\">\n",
       "  <thead>\n",
       "    <tr style=\"text-align: right;\">\n",
       "      <th></th>\n",
       "      <th>user_id</th>\n",
       "      <th>time_spent_on_the_page</th>\n",
       "    </tr>\n",
       "  </thead>\n",
       "  <tbody>\n",
       "    <tr>\n",
       "      <th>user_id</th>\n",
       "      <td>2734.848485</td>\n",
       "      <td>-46.372828</td>\n",
       "    </tr>\n",
       "    <tr>\n",
       "      <th>time_spent_on_the_page</th>\n",
       "      <td>-46.372828</td>\n",
       "      <td>5.655674</td>\n",
       "    </tr>\n",
       "  </tbody>\n",
       "</table>\n",
       "</div>"
      ],
      "text/plain": [
       "                            user_id  time_spent_on_the_page\n",
       "user_id                 2734.848485              -46.372828\n",
       "time_spent_on_the_page   -46.372828                5.655674"
      ]
     },
     "execution_count": 21,
     "metadata": {},
     "output_type": "execute_result"
    }
   ],
   "source": [
    "abtest.cov()"
   ]
  },
  {
   "cell_type": "code",
   "execution_count": 22,
   "id": "3e23a80c",
   "metadata": {},
   "outputs": [
    {
     "data": {
      "text/html": [
       "<div>\n",
       "<style scoped>\n",
       "    .dataframe tbody tr th:only-of-type {\n",
       "        vertical-align: middle;\n",
       "    }\n",
       "\n",
       "    .dataframe tbody tr th {\n",
       "        vertical-align: top;\n",
       "    }\n",
       "\n",
       "    .dataframe thead th {\n",
       "        text-align: right;\n",
       "    }\n",
       "</style>\n",
       "<table border=\"1\" class=\"dataframe\">\n",
       "  <thead>\n",
       "    <tr style=\"text-align: right;\">\n",
       "      <th></th>\n",
       "      <th>user_id</th>\n",
       "      <th>time_spent_on_the_page</th>\n",
       "    </tr>\n",
       "  </thead>\n",
       "  <tbody>\n",
       "    <tr>\n",
       "      <th>user_id</th>\n",
       "      <td>1.000000</td>\n",
       "      <td>-0.372868</td>\n",
       "    </tr>\n",
       "    <tr>\n",
       "      <th>time_spent_on_the_page</th>\n",
       "      <td>-0.372868</td>\n",
       "      <td>1.000000</td>\n",
       "    </tr>\n",
       "  </tbody>\n",
       "</table>\n",
       "</div>"
      ],
      "text/plain": [
       "                         user_id  time_spent_on_the_page\n",
       "user_id                 1.000000               -0.372868\n",
       "time_spent_on_the_page -0.372868                1.000000"
      ]
     },
     "execution_count": 22,
     "metadata": {},
     "output_type": "execute_result"
    }
   ],
   "source": [
    "abtest.corr()"
   ]
  },
  {
   "cell_type": "code",
   "execution_count": 23,
   "id": "e1278919",
   "metadata": {},
   "outputs": [
    {
     "data": {
      "image/png": "[encoded data removed]",
      "text/plain": [
       "<Figure size 432x288 with 2 Axes>"
      ]
     },
     "metadata": {
      "needs_background": "light"
     },
     "output_type": "display_data"
    }
   ],
   "source": [
    "sns.heatmap(abtest.corr());"
   ]
  },
  {
   "cell_type": "markdown",
   "id": "b8a9b799",
   "metadata": {},
   "source": [
    "# 1. Do the users spend more time on the new landing page than the old landing page?"
   ]
  },
  {
   "cell_type": "markdown",
   "id": "68620afe",
   "metadata": {},
   "source": [
    "Are the assumptions of the T test satisfied? <br>\n",
    "The control and treatment groups are independent of each other <br>\n",
    "The time spent on the landing page is a continuous variable  <br>\n",
    "Sample std deviations are different- therefore population std deviations are unknown <br>\n",
    "Sample size > 30 <br>\n",
    "5% significance interval <br>\n",
    "Test for comparing means (unknown variance) - T test"
   ]
  },
  {
   "cell_type": "markdown",
   "id": "49833c64",
   "metadata": {},
   "source": [
    "mu1 = population mean of control group <br>\n",
    "mu2 = population mean of treatment group <br>\n",
    "Old Landing Page = Control <br>\n",
    "New Landing Page = Treatment <br>\n",
    "\n",
    "Null hypothesis: mu1 = mu2 <br>\n",
    "Alternate hypothesis: mu1 < mu2"
   ]
  },
  {
   "cell_type": "code",
   "execution_count": 24,
   "id": "e8d4b8be",
   "metadata": {},
   "outputs": [
    {
     "data": {
      "text/plain": [
       "landing_page\n",
       "new    6.2232\n",
       "old    4.5324\n",
       "Name: time_spent_on_the_page, dtype: float64"
      ]
     },
     "execution_count": 24,
     "metadata": {},
     "output_type": "execute_result"
    }
   ],
   "source": [
    "abtest['time_spent_on_the_page'].groupby(abtest['landing_page']).mean()"
   ]
  },
  {
   "cell_type": "code",
   "execution_count": 7,
   "id": "66cd9946",
   "metadata": {},
   "outputs": [
    {
     "data": {
      "text/html": [
       "<div>\n",
       "<style scoped>\n",
       "    .dataframe tbody tr th:only-of-type {\n",
       "        vertical-align: middle;\n",
       "    }\n",
       "\n",
       "    .dataframe tbody tr th {\n",
       "        vertical-align: top;\n",
       "    }\n",
       "\n",
       "    .dataframe thead th {\n",
       "        text-align: right;\n",
       "    }\n",
       "</style>\n",
       "<table border=\"1\" class=\"dataframe\">\n",
       "  <thead>\n",
       "    <tr style=\"text-align: right;\">\n",
       "      <th></th>\n",
       "      <th>user_id</th>\n",
       "      <th>group</th>\n",
       "      <th>landing_page</th>\n",
       "      <th>time_spent_on_the_page</th>\n",
       "      <th>converted</th>\n",
       "      <th>language_preferred</th>\n",
       "    </tr>\n",
       "  </thead>\n",
       "  <tbody>\n",
       "    <tr>\n",
       "      <th>0</th>\n",
       "      <td>546592</td>\n",
       "      <td>control</td>\n",
       "      <td>old</td>\n",
       "      <td>3.48</td>\n",
       "      <td>no</td>\n",
       "      <td>Spanish</td>\n",
       "    </tr>\n",
       "    <tr>\n",
       "      <th>3</th>\n",
       "      <td>546567</td>\n",
       "      <td>control</td>\n",
       "      <td>old</td>\n",
       "      <td>3.02</td>\n",
       "      <td>no</td>\n",
       "      <td>French</td>\n",
       "    </tr>\n",
       "    <tr>\n",
       "      <th>5</th>\n",
       "      <td>546558</td>\n",
       "      <td>control</td>\n",
       "      <td>old</td>\n",
       "      <td>5.28</td>\n",
       "      <td>yes</td>\n",
       "      <td>English</td>\n",
       "    </tr>\n",
       "    <tr>\n",
       "      <th>7</th>\n",
       "      <td>546581</td>\n",
       "      <td>control</td>\n",
       "      <td>old</td>\n",
       "      <td>6.53</td>\n",
       "      <td>yes</td>\n",
       "      <td>Spanish</td>\n",
       "    </tr>\n",
       "    <tr>\n",
       "      <th>9</th>\n",
       "      <td>546548</td>\n",
       "      <td>control</td>\n",
       "      <td>old</td>\n",
       "      <td>2.08</td>\n",
       "      <td>no</td>\n",
       "      <td>English</td>\n",
       "    </tr>\n",
       "  </tbody>\n",
       "</table>\n",
       "</div>"
      ],
      "text/plain": [
       "   user_id    group landing_page  time_spent_on_the_page converted  \\\n",
       "0   546592  control          old                    3.48        no   \n",
       "3   546567  control          old                    3.02        no   \n",
       "5   546558  control          old                    5.28       yes   \n",
       "7   546581  control          old                    6.53       yes   \n",
       "9   546548  control          old                    2.08        no   \n",
       "\n",
       "  language_preferred  \n",
       "0            Spanish  \n",
       "3             French  \n",
       "5            English  \n",
       "7            Spanish  \n",
       "9            English  "
      ]
     },
     "execution_count": 7,
     "metadata": {},
     "output_type": "execute_result"
    }
   ],
   "source": [
    "# Creating two new datasets- one with data on the new and one on the old landing page\n",
    "abtest_treatment = abtest[abtest['landing_page'] == 'new']\n",
    "abtest_treatment\n",
    "\n",
    "abtest_control = abtest[abtest['landing_page'] == 'old']\n",
    "abtest_control.head(5)\n",
    "\n"
   ]
  },
  {
   "cell_type": "code",
   "execution_count": 27,
   "id": "3e6b0325",
   "metadata": {},
   "outputs": [
    {
     "name": "stdout",
     "output_type": "stream",
     "text": [
      "-3.7867702694199856 0.0001392381225166549\n"
     ]
    }
   ],
   "source": [
    "from scipy.stats import ttest_ind\n",
    "\n",
    "test_stat, p_val = ttest_ind(abtest_control['time_spent_on_the_page'], abtest_treatment['time_spent_on_the_page'], equal_var = False, alternative = 'less')\n",
    "print(test_stat,p_val)"
   ]
  },
  {
   "cell_type": "markdown",
   "id": "a9357971",
   "metadata": {},
   "source": [
    "p_value is less than 0.05 -- Reject the Null Hypothesis <br>\n",
    "Hence, there is enough evidence to say that the users spend more time on the new landing page than the old page"
   ]
  },
  {
   "cell_type": "code",
   "execution_count": 33,
   "id": "de7b0dfb",
   "metadata": {},
   "outputs": [
    {
     "data": {
      "image/png": "[encoded data removed]",
      "text/plain": [
       "<Figure size 432x288 with 1 Axes>"
      ]
     },
     "metadata": {
      "needs_background": "light"
     },
     "output_type": "display_data"
    }
   ],
   "source": [
    "from scipy.stats import norm\n",
    "x = np.linspace(-4,4,100)\n",
    "plt.plot(x, norm.pdf(x, 0, 1))\n",
    "plt.axvline(x = test_stat, c = 'r')\n",
    "x1 = np.linspace(test_stat, -4, 50)\n",
    "plt.fill_between(x1, norm.pdf(x1, 0, 1), color = 'r')\n",
    "plt.show()"
   ]
  },
  {
   "cell_type": "markdown",
   "id": "e0467a55",
   "metadata": {},
   "source": [
    "# Is the conversion rate (the proportion of users who visit the landing page and get converted) for the new page greater than the conversion rate for the old page? \n"
   ]
  },
  {
   "cell_type": "code",
   "execution_count": 35,
   "id": "04eaef19",
   "metadata": {
    "scrolled": true
   },
   "outputs": [
    {
     "data": {
      "text/html": [
       "<div>\n",
       "<style scoped>\n",
       "    .dataframe tbody tr th:only-of-type {\n",
       "        vertical-align: middle;\n",
       "    }\n",
       "\n",
       "    .dataframe tbody tr th {\n",
       "        vertical-align: top;\n",
       "    }\n",
       "\n",
       "    .dataframe thead th {\n",
       "        text-align: right;\n",
       "    }\n",
       "</style>\n",
       "<table border=\"1\" class=\"dataframe\">\n",
       "  <thead>\n",
       "    <tr style=\"text-align: right;\">\n",
       "      <th></th>\n",
       "      <th>user_id</th>\n",
       "      <th>group</th>\n",
       "      <th>landing_page</th>\n",
       "      <th>time_spent_on_the_page</th>\n",
       "      <th>converted</th>\n",
       "      <th>language_preferred</th>\n",
       "    </tr>\n",
       "  </thead>\n",
       "  <tbody>\n",
       "    <tr>\n",
       "      <th>0</th>\n",
       "      <td>546592</td>\n",
       "      <td>control</td>\n",
       "      <td>old</td>\n",
       "      <td>3.48</td>\n",
       "      <td>no</td>\n",
       "      <td>Spanish</td>\n",
       "    </tr>\n",
       "    <tr>\n",
       "      <th>1</th>\n",
       "      <td>546468</td>\n",
       "      <td>treatment</td>\n",
       "      <td>new</td>\n",
       "      <td>7.13</td>\n",
       "      <td>yes</td>\n",
       "      <td>English</td>\n",
       "    </tr>\n",
       "    <tr>\n",
       "      <th>2</th>\n",
       "      <td>546462</td>\n",
       "      <td>treatment</td>\n",
       "      <td>new</td>\n",
       "      <td>4.40</td>\n",
       "      <td>no</td>\n",
       "      <td>Spanish</td>\n",
       "    </tr>\n",
       "    <tr>\n",
       "      <th>3</th>\n",
       "      <td>546567</td>\n",
       "      <td>control</td>\n",
       "      <td>old</td>\n",
       "      <td>3.02</td>\n",
       "      <td>no</td>\n",
       "      <td>French</td>\n",
       "    </tr>\n",
       "    <tr>\n",
       "      <th>4</th>\n",
       "      <td>546459</td>\n",
       "      <td>treatment</td>\n",
       "      <td>new</td>\n",
       "      <td>4.75</td>\n",
       "      <td>yes</td>\n",
       "      <td>Spanish</td>\n",
       "    </tr>\n",
       "  </tbody>\n",
       "</table>\n",
       "</div>"
      ],
      "text/plain": [
       "   user_id      group landing_page  time_spent_on_the_page converted  \\\n",
       "0   546592    control          old                    3.48        no   \n",
       "1   546468  treatment          new                    7.13       yes   \n",
       "2   546462  treatment          new                    4.40        no   \n",
       "3   546567    control          old                    3.02        no   \n",
       "4   546459  treatment          new                    4.75       yes   \n",
       "\n",
       "  language_preferred  \n",
       "0            Spanish  \n",
       "1            English  \n",
       "2            Spanish  \n",
       "3             French  \n",
       "4            Spanish  "
      ]
     },
     "execution_count": 35,
     "metadata": {},
     "output_type": "execute_result"
    }
   ],
   "source": [
    "abtest.head(5)"
   ]
  },
  {
   "cell_type": "code",
   "execution_count": 36,
   "id": "7ec4c5f3",
   "metadata": {},
   "outputs": [
    {
     "name": "stdout",
     "output_type": "stream",
     "text": [
      "21 33\n"
     ]
    }
   ],
   "source": [
    "conv_control = (abtest['user_id'][abtest['landing_page'] == 'old'][abtest['converted'] == 'yes'].count())\n",
    "conv_treatment = (abtest['user_id'][abtest['landing_page'] == 'new'][abtest['converted'] == 'yes'].count())\n",
    "\n",
    "print(conv_control, conv_treatment)\n",
    "# 2 proportion Z test?"
   ]
  },
  {
   "cell_type": "markdown",
   "id": "baaefca1",
   "metadata": {},
   "source": [
    "Are the assumptions of the 2 proportion Z test satisfied? <br>\n",
    "Binomially distributed - yes the task either gets converted or does not <br>\n",
    "Independent populations - yes <br>\n",
    "np and n(1-p) are greater than 10 -yes <br>\n",
    "Test for two proportions - Z test"
   ]
  },
  {
   "cell_type": "markdown",
   "id": "dcb8ca24",
   "metadata": {},
   "source": [
    "p1 = proportion of conversion for control group <br>\n",
    "p2 = proportion of conversion for treatment group <br>\n",
    "Null Hypothesis: p1 = p2 <br>\n",
    "Alternate Hypothesis: p1 <> p2 <br>"
   ]
  },
  {
   "cell_type": "code",
   "execution_count": 37,
   "id": "cbd6544f",
   "metadata": {},
   "outputs": [
    {
     "name": "stdout",
     "output_type": "stream",
     "text": [
      "-2.4077170617153842 0.016052616408112556\n"
     ]
    }
   ],
   "source": [
    "abtest.groupby(abtest['landing_page']).count()\n",
    "n1 = 50\n",
    "n2 = 50\n",
    "p1 = conv_control\n",
    "p2 = conv_treatment\n",
    "\n",
    "from statsmodels.stats.proportion import proportions_ztest\n",
    "\n",
    "# setting the count of conversions\n",
    "conv = np.array([p1, p2])\n",
    "nobs = np.array([50,50])\n",
    "test_stat, p_val = proportions_ztest(conv, nobs)\n",
    "print(test_stat,p_val)\n"
   ]
  },
  {
   "cell_type": "markdown",
   "id": "e27c7628",
   "metadata": {},
   "source": [
    "p_value is greater than 0.05 -- Fail to reject the Null Hypothesis <br>\n",
    "Hence, we do not have enough evidence to say that the conversion rate for the new page is greater than the conversion rate for the old page"
   ]
  },
  {
   "cell_type": "code",
   "execution_count": 38,
   "id": "812f3a69",
   "metadata": {},
   "outputs": [
    {
     "data": {
      "image/png": "[encoded data removed]",
      "text/plain": [
       "<Figure size 432x288 with 1 Axes>"
      ]
     },
     "metadata": {
      "needs_background": "light"
     },
     "output_type": "display_data"
    }
   ],
   "source": [
    "from scipy.stats import norm\n",
    "x = np.linspace(-4,4,100)\n",
    "plt.plot(x, norm.pdf(x, 0, 1))\n",
    "plt.axvline(x = test_stat, c = 'r')\n",
    "x1 = np.linspace(test_stat, -4, 50)\n",
    "plt.fill_between(x1, norm.pdf(x1, 0, 1), color = 'r')\n",
    "plt.show()"
   ]
  },
  {
   "cell_type": "markdown",
   "id": "96e5e220",
   "metadata": {},
   "source": [
    "# Does the converted status depend on the preferred language?\n",
    "[Hint: Create a contingency table using the pandas.crosstab() function] "
   ]
  },
  {
   "cell_type": "code",
   "execution_count": 45,
   "id": "debe7f0a",
   "metadata": {},
   "outputs": [
    {
     "data": {
      "text/html": [
       "<div>\n",
       "<style scoped>\n",
       "    .dataframe tbody tr th:only-of-type {\n",
       "        vertical-align: middle;\n",
       "    }\n",
       "\n",
       "    .dataframe tbody tr th {\n",
       "        vertical-align: top;\n",
       "    }\n",
       "\n",
       "    .dataframe thead th {\n",
       "        text-align: right;\n",
       "    }\n",
       "</style>\n",
       "<table border=\"1\" class=\"dataframe\">\n",
       "  <thead>\n",
       "    <tr style=\"text-align: right;\">\n",
       "      <th>language_preferred</th>\n",
       "      <th>English</th>\n",
       "      <th>French</th>\n",
       "      <th>Spanish</th>\n",
       "    </tr>\n",
       "    <tr>\n",
       "      <th>converted</th>\n",
       "      <th></th>\n",
       "      <th></th>\n",
       "      <th></th>\n",
       "    </tr>\n",
       "  </thead>\n",
       "  <tbody>\n",
       "    <tr>\n",
       "      <th>no</th>\n",
       "      <td>11</td>\n",
       "      <td>19</td>\n",
       "      <td>16</td>\n",
       "    </tr>\n",
       "    <tr>\n",
       "      <th>yes</th>\n",
       "      <td>21</td>\n",
       "      <td>15</td>\n",
       "      <td>18</td>\n",
       "    </tr>\n",
       "  </tbody>\n",
       "</table>\n",
       "</div>"
      ],
      "text/plain": [
       "language_preferred  English  French  Spanish\n",
       "converted                                   \n",
       "no                       11      19       16\n",
       "yes                      21      15       18"
      ]
     },
     "execution_count": 45,
     "metadata": {},
     "output_type": "execute_result"
    }
   ],
   "source": [
    "abtest_contingency = pd.crosstab(abtest['converted'], abtest['language_preferred'])\n",
    "abtest_contingency"
   ]
  },
  {
   "cell_type": "markdown",
   "id": "849a4390",
   "metadata": {},
   "source": [
    "Chi-squared test for Independence"
   ]
  },
  {
   "cell_type": "markdown",
   "id": "627325c4",
   "metadata": {},
   "source": [
    "Null Hypothesis: Converted status and Language preferred are independent <br>\n",
    "Alternate Hypothesis: Converted status and Language preferred are not independent"
   ]
  },
  {
   "cell_type": "markdown",
   "id": "2d6c5aee",
   "metadata": {},
   "source": [
    "Are the assumptions of the Chi-squared test satisfied? <br>\n",
    "Categorical variables - yes <br>\n",
    "Number of sample observations in each level is at least 5 - yes <br>\n",
    "Random sampling from population <br>\n",
    "Chi-squared test for Independence"
   ]
  },
  {
   "cell_type": "code",
   "execution_count": 46,
   "id": "cc59041b",
   "metadata": {},
   "outputs": [
    {
     "name": "stdout",
     "output_type": "stream",
     "text": [
      "3.0930306905370837 0.21298887487543447\n"
     ]
    }
   ],
   "source": [
    "from scipy.stats import chi2_contingency\n",
    "\n",
    "chi, p_val, dof, expected = chi2_contingency(abtest_contingency)\n",
    "print(chi,p_val)"
   ]
  },
  {
   "cell_type": "markdown",
   "id": "f3061e71",
   "metadata": {},
   "source": [
    "p_value is large -- Fail to reject the Null Hypothesis <br>\n",
    "Hence, the converted status and the preferred language are independent"
   ]
  },
  {
   "cell_type": "code",
   "execution_count": 48,
   "id": "9f119328",
   "metadata": {},
   "outputs": [
    {
     "data": {
      "image/png": "[encoded data removed]",
      "text/plain": [
       "<Figure size 432x288 with 1 Axes>"
      ]
     },
     "metadata": {
      "needs_background": "light"
     },
     "output_type": "display_data"
    }
   ],
   "source": [
    "from scipy.stats import norm\n",
    "x = np.linspace(-4,4,100)\n",
    "plt.plot(x, norm.pdf(x, 0, 1))\n",
    "plt.axvline(x = chi, c = 'r')\n",
    "x1 = np.linspace(chi, 4, 50)\n",
    "plt.fill_between(x1, norm.pdf(x1, 0, 1), color = 'r')\n",
    "plt.show()"
   ]
  },
  {
   "cell_type": "markdown",
   "id": "1e0274f5",
   "metadata": {},
   "source": [
    "# Is the mean time spent on the new page same for the different language users?"
   ]
  },
  {
   "cell_type": "markdown",
   "id": "89880068",
   "metadata": {},
   "source": [
    "Comparing means of 3 samples- Anova"
   ]
  },
  {
   "cell_type": "code",
   "execution_count": 39,
   "id": "fc6ef2b1",
   "metadata": {},
   "outputs": [
    {
     "data": {
      "text/plain": [
       "array(['Spanish', 'English', 'French'], dtype=object)"
      ]
     },
     "execution_count": 39,
     "metadata": {},
     "output_type": "execute_result"
    }
   ],
   "source": [
    "abtest['language_preferred'].unique()"
   ]
  },
  {
   "cell_type": "markdown",
   "id": "26934840",
   "metadata": {},
   "source": [
    "mu1 = mean time spent on new page, language = Spanish <br>\n",
    "mu2 = mean time spent on new page, language = English <br>\n",
    "mu3 = mean time spent on new page, language = French <br>\n",
    "\n",
    "Response- mean time spent on new page\n",
    "Factor- the preferred languages\n",
    "\n",
    "Null Hypothesis: mu1 = mu2 = mu3 <br>\n",
    "Alternate Hypothesis: atleast one of the means is not the same\n"
   ]
  },
  {
   "cell_type": "markdown",
   "id": "cd00e082",
   "metadata": {},
   "source": [
    "Are the assumptions of the Anova test satisfied? <br>\n",
    "Normally distributed - Yes <br>\n",
    "Samples are independent - Yes <br>\n",
    "Population variances are equal (Assumption) <br>\n",
    "One Way Anova F Test"
   ]
  },
  {
   "cell_type": "markdown",
   "id": "0cb28705",
   "metadata": {},
   "source": [
    "Performing the Shapiro-Wilks test to check for Normality <br>\n",
    "Null Hypothesis: Time spent on new page follows a normal distribution <br>\n",
    "Alternate Hypothesis: Time spent on new page does not follow a normal distribution"
   ]
  },
  {
   "cell_type": "code",
   "execution_count": 40,
   "id": "d46224d3",
   "metadata": {},
   "outputs": [
    {
     "data": {
      "text/plain": [
       "0.8040016293525696"
      ]
     },
     "execution_count": 40,
     "metadata": {},
     "output_type": "execute_result"
    }
   ],
   "source": [
    "from scipy import stats\n",
    "w, p_val = stats.shapiro(abtest['time_spent_on_the_page'][abtest['landing_page'] == 'new'])\n",
    "p_val"
   ]
  },
  {
   "cell_type": "markdown",
   "id": "b93f31de",
   "metadata": {},
   "source": [
    "p_value is very large -- Fail to reject the Null Hypothesis <br>\n",
    "Hence, assumption of normality is ok"
   ]
  },
  {
   "cell_type": "markdown",
   "id": "98fb00aa",
   "metadata": {},
   "source": [
    "Performing the Levene's Test to check for equality of population variances <br>\n",
    "Null Hypothesis: All population variances are equal <br>\n",
    "Alternate Hypothesis: At least one variance is different from the rest\n"
   ]
  },
  {
   "cell_type": "code",
   "execution_count": 41,
   "id": "8377e418",
   "metadata": {},
   "outputs": [
    {
     "data": {
      "text/plain": [
       "0.46711357711340173"
      ]
     },
     "execution_count": 41,
     "metadata": {},
     "output_type": "execute_result"
    }
   ],
   "source": [
    "from scipy.stats import levene\n",
    "test_stat, p_val = levene(abtest['time_spent_on_the_page'][abtest['landing_page'] == 'new'][abtest['language_preferred'] == 'Spanish'],\n",
    "                          abtest['time_spent_on_the_page'][abtest['landing_page'] == 'new'][abtest['language_preferred'] == 'English'],\n",
    "                          abtest['time_spent_on_the_page'][abtest['landing_page'] == 'new'][abtest['language_preferred'] == 'French']\n",
    "                         )\n",
    "\n",
    "p_val"
   ]
  },
  {
   "cell_type": "markdown",
   "id": "99dacdd4",
   "metadata": {},
   "source": [
    "p_val is large -- Fail to reject the Null Hypothesis <br>\n",
    "Hence, assumption of equal variances is ok"
   ]
  },
  {
   "cell_type": "code",
   "execution_count": 43,
   "id": "a4ff535e",
   "metadata": {},
   "outputs": [
    {
     "name": "stdout",
     "output_type": "stream",
     "text": [
      "0.1434343922124043 0.8665610536012648\n"
     ]
    }
   ],
   "source": [
    "abtest_anova = abtest[abtest['landing_page'] == 'new']\n",
    "abtest_anova\n",
    "\n",
    "from scipy.stats import f_oneway\n",
    "test_stat, p_val = f_oneway(abtest.loc[abtest['language_preferred'] == 'Spanish', 'time_spent_on_the_page'],\n",
    "                           abtest.loc[abtest['language_preferred'] == 'English', 'time_spent_on_the_page'],\n",
    "                           abtest.loc[abtest['language_preferred'] == 'French', 'time_spent_on_the_page'])\n",
    "\n",
    "print(test_stat,p_val)"
   ]
  },
  {
   "cell_type": "markdown",
   "id": "d79c28f3",
   "metadata": {},
   "source": [
    "p_value is too large -- Fail to reject the Null Hypothesis <br>\n",
    "Hence, there is not enough evidence to say that the population means are different from one another"
   ]
  },
  {
   "cell_type": "code",
   "execution_count": 49,
   "id": "a03a495d",
   "metadata": {},
   "outputs": [
    {
     "data": {
      "image/png": "[encoded data removed]",
      "text/plain": [
       "<Figure size 432x288 with 1 Axes>"
      ]
     },
     "metadata": {
      "needs_background": "light"
     },
     "output_type": "display_data"
    }
   ],
   "source": [
    "from scipy.stats import norm\n",
    "x = np.linspace(-4,4,100)\n",
    "plt.plot(x, norm.pdf(x, 0, 1))\n",
    "plt.axvline(x = test_stat, c = 'r')\n",
    "x1 = np.linspace(test_stat, 4, 50)\n",
    "plt.fill_between(x1, norm.pdf(x1, 0, 1), color = 'r')\n",
    "plt.show()"
   ]
  },
  {
   "cell_type": "code",
   "execution_count": null,
   "id": "77cc09ad",
   "metadata": {},
   "outputs": [],
   "source": []
  }
 ],
 "metadata": {
  "kernelspec": {
   "display_name": "Python 3",
   "language": "python",
   "name": "python3"
  },
  "language_info": {
   "codemirror_mode": {
    "name": "ipython",
    "version": 3
   },
   "file_extension": ".py",
   "mimetype": "text/x-python",
   "name": "python",
   "nbconvert_exporter": "python",
   "pygments_lexer": "ipython3",
   "version": "3.7.4"
  }
 },
 "nbformat": 4,
 "nbformat_minor": 5
}
