{
 "cells": [
  {
   "cell_type": "code",
   "execution_count": 1,
   "id": "18e4bf8b",
   "metadata": {},
   "outputs": [
    {
     "name": "stderr",
     "output_type": "stream",
     "text": [
      "In C:\\Users\\KXS26XY\\AppData\\Local\\Continuum\\anaconda3\\lib\\site-packages\\matplotlib\\mpl-data\\stylelib\\_classic_test.mplstyle: \n",
      "The text.latex.preview rcparam was deprecated in Matplotlib 3.3 and will be removed two minor releases later.\n",
      "In C:\\Users\\KXS26XY\\AppData\\Local\\Continuum\\anaconda3\\lib\\site-packages\\matplotlib\\mpl-data\\stylelib\\_classic_test.mplstyle: \n",
      "The mathtext.fallback_to_cm rcparam was deprecated in Matplotlib 3.3 and will be removed two minor releases later.\n",
      "In C:\\Users\\KXS26XY\\AppData\\Local\\Continuum\\anaconda3\\lib\\site-packages\\matplotlib\\mpl-data\\stylelib\\_classic_test.mplstyle: Support for setting the 'mathtext.fallback_to_cm' rcParam is deprecated since 3.3 and will be removed two minor releases later; use 'mathtext.fallback : 'cm' instead.\n",
      "In C:\\Users\\KXS26XY\\AppData\\Local\\Continuum\\anaconda3\\lib\\site-packages\\matplotlib\\mpl-data\\stylelib\\_classic_test.mplstyle: \n",
      "The validate_bool_maybe_none function was deprecated in Matplotlib 3.3 and will be removed two minor releases later.\n",
      "In C:\\Users\\KXS26XY\\AppData\\Local\\Continuum\\anaconda3\\lib\\site-packages\\matplotlib\\mpl-data\\stylelib\\_classic_test.mplstyle: \n",
      "The savefig.jpeg_quality rcparam was deprecated in Matplotlib 3.3 and will be removed two minor releases later.\n",
      "In C:\\Users\\KXS26XY\\AppData\\Local\\Continuum\\anaconda3\\lib\\site-packages\\matplotlib\\mpl-data\\stylelib\\_classic_test.mplstyle: \n",
      "The keymap.all_axes rcparam was deprecated in Matplotlib 3.3 and will be removed two minor releases later.\n",
      "In C:\\Users\\KXS26XY\\AppData\\Local\\Continuum\\anaconda3\\lib\\site-packages\\matplotlib\\mpl-data\\stylelib\\_classic_test.mplstyle: \n",
      "The animation.avconv_path rcparam was deprecated in Matplotlib 3.3 and will be removed two minor releases later.\n",
      "In C:\\Users\\KXS26XY\\AppData\\Local\\Continuum\\anaconda3\\lib\\site-packages\\matplotlib\\mpl-data\\stylelib\\_classic_test.mplstyle: \n",
      "The animation.avconv_args rcparam was deprecated in Matplotlib 3.3 and will be removed two minor releases later.\n"
     ]
    }
   ],
   "source": [
    "import numpy as np\n",
    "import pandas as pd\n",
    "import matplotlib.pyplot as plt\n",
    "import seaborn as sns"
   ]
  },
  {
   "cell_type": "code",
   "execution_count": 81,
   "id": "0ef23fdc",
   "metadata": {},
   "outputs": [
    {
     "name": "stdout",
     "output_type": "stream",
     "text": [
      "There are 378661 rows and 14 columns in this dataset\n"
     ]
    },
    {
     "data": {
      "text/html": [
       "<div>\n",
       "<style scoped>\n",
       "    .dataframe tbody tr th:only-of-type {\n",
       "        vertical-align: middle;\n",
       "    }\n",
       "\n",
       "    .dataframe tbody tr th {\n",
       "        vertical-align: top;\n",
       "    }\n",
       "\n",
       "    .dataframe thead th {\n",
       "        text-align: right;\n",
       "    }\n",
       "</style>\n",
       "<table border=\"1\" class=\"dataframe\">\n",
       "  <thead>\n",
       "    <tr style=\"text-align: right;\">\n",
       "      <th></th>\n",
       "      <th>id</th>\n",
       "      <th>name</th>\n",
       "      <th>subcategory</th>\n",
       "      <th>category</th>\n",
       "      <th>currency</th>\n",
       "      <th>deadline</th>\n",
       "      <th>goal</th>\n",
       "      <th>launched</th>\n",
       "      <th>pledged</th>\n",
       "      <th>state</th>\n",
       "      <th>backers</th>\n",
       "      <th>country</th>\n",
       "      <th>usd_pledged_real</th>\n",
       "      <th>usd_goal_real</th>\n",
       "    </tr>\n",
       "  </thead>\n",
       "  <tbody>\n",
       "    <tr>\n",
       "      <th>99838</th>\n",
       "      <td>1506962323</td>\n",
       "      <td>2018 Comic Con/ Horror Con/ GMCC</td>\n",
       "      <td>Art</td>\n",
       "      <td>Art</td>\n",
       "      <td>USD</td>\n",
       "      <td>10-10-2017</td>\n",
       "      <td>600.0</td>\n",
       "      <td>31-08-2017 04:05</td>\n",
       "      <td>600.00</td>\n",
       "      <td>successful</td>\n",
       "      <td>4</td>\n",
       "      <td>US</td>\n",
       "      <td>600.00</td>\n",
       "      <td>600.00</td>\n",
       "    </tr>\n",
       "    <tr>\n",
       "      <th>15731</th>\n",
       "      <td>1079621785</td>\n",
       "      <td>Ixion's The Four Disgracers</td>\n",
       "      <td>Theater</td>\n",
       "      <td>Theater</td>\n",
       "      <td>USD</td>\n",
       "      <td>26-04-2014</td>\n",
       "      <td>3500.0</td>\n",
       "      <td>27-03-2014 20:21</td>\n",
       "      <td>2920.00</td>\n",
       "      <td>failed</td>\n",
       "      <td>54</td>\n",
       "      <td>US</td>\n",
       "      <td>2920.00</td>\n",
       "      <td>3500.00</td>\n",
       "    </tr>\n",
       "    <tr>\n",
       "      <th>339459</th>\n",
       "      <td>799118140</td>\n",
       "      <td>Irving Comics Inc. (Canceled)</td>\n",
       "      <td>Comics</td>\n",
       "      <td>Comics</td>\n",
       "      <td>USD</td>\n",
       "      <td>16-04-2015</td>\n",
       "      <td>10000.0</td>\n",
       "      <td>17-03-2015 20:58</td>\n",
       "      <td>75.00</td>\n",
       "      <td>canceled</td>\n",
       "      <td>1</td>\n",
       "      <td>US</td>\n",
       "      <td>75.00</td>\n",
       "      <td>10000.00</td>\n",
       "    </tr>\n",
       "    <tr>\n",
       "      <th>100211</th>\n",
       "      <td>1508896926</td>\n",
       "      <td>Breakaway</td>\n",
       "      <td>Shorts</td>\n",
       "      <td>Film &amp; Video</td>\n",
       "      <td>USD</td>\n",
       "      <td>17-10-2011</td>\n",
       "      <td>5000.0</td>\n",
       "      <td>16-09-2011 20:11</td>\n",
       "      <td>5365.00</td>\n",
       "      <td>successful</td>\n",
       "      <td>60</td>\n",
       "      <td>US</td>\n",
       "      <td>5365.00</td>\n",
       "      <td>5000.00</td>\n",
       "    </tr>\n",
       "    <tr>\n",
       "      <th>170820</th>\n",
       "      <td>1869016023</td>\n",
       "      <td>the Atomic Café Mobile</td>\n",
       "      <td>Drinks</td>\n",
       "      <td>Food</td>\n",
       "      <td>USD</td>\n",
       "      <td>19-06-2015</td>\n",
       "      <td>5000.0</td>\n",
       "      <td>20-05-2015 10:47</td>\n",
       "      <td>5111.06</td>\n",
       "      <td>successful</td>\n",
       "      <td>53</td>\n",
       "      <td>US</td>\n",
       "      <td>5111.06</td>\n",
       "      <td>5000.00</td>\n",
       "    </tr>\n",
       "    <tr>\n",
       "      <th>75113</th>\n",
       "      <td>1382708884</td>\n",
       "      <td>Shaken</td>\n",
       "      <td>Dance</td>\n",
       "      <td>Dance</td>\n",
       "      <td>USD</td>\n",
       "      <td>11-04-2011</td>\n",
       "      <td>2000.0</td>\n",
       "      <td>11-03-2011 05:13</td>\n",
       "      <td>2615.00</td>\n",
       "      <td>successful</td>\n",
       "      <td>51</td>\n",
       "      <td>US</td>\n",
       "      <td>2615.00</td>\n",
       "      <td>2000.00</td>\n",
       "    </tr>\n",
       "    <tr>\n",
       "      <th>258934</th>\n",
       "      <td>386894220</td>\n",
       "      <td>Happiness Ambassador Postcard Project Year: 20...</td>\n",
       "      <td>Mixed Media</td>\n",
       "      <td>Art</td>\n",
       "      <td>USD</td>\n",
       "      <td>29-09-2012</td>\n",
       "      <td>800.0</td>\n",
       "      <td>15-09-2012 01:29</td>\n",
       "      <td>80.00</td>\n",
       "      <td>failed</td>\n",
       "      <td>3</td>\n",
       "      <td>US</td>\n",
       "      <td>80.00</td>\n",
       "      <td>800.00</td>\n",
       "    </tr>\n",
       "    <tr>\n",
       "      <th>178566</th>\n",
       "      <td>19084902</td>\n",
       "      <td>Unlikely Friends (Short Film)</td>\n",
       "      <td>Drama</td>\n",
       "      <td>Film &amp; Video</td>\n",
       "      <td>GBP</td>\n",
       "      <td>13-03-2015</td>\n",
       "      <td>150.0</td>\n",
       "      <td>03-02-2015 09:49</td>\n",
       "      <td>5.00</td>\n",
       "      <td>failed</td>\n",
       "      <td>1</td>\n",
       "      <td>GB</td>\n",
       "      <td>7.39</td>\n",
       "      <td>221.71</td>\n",
       "    </tr>\n",
       "    <tr>\n",
       "      <th>33859</th>\n",
       "      <td>1171932479</td>\n",
       "      <td>Would you help a MONSTER make music? Yes or No?</td>\n",
       "      <td>Classical Music</td>\n",
       "      <td>Music</td>\n",
       "      <td>USD</td>\n",
       "      <td>21-09-2014</td>\n",
       "      <td>2000.0</td>\n",
       "      <td>22-08-2014 18:01</td>\n",
       "      <td>2778.00</td>\n",
       "      <td>successful</td>\n",
       "      <td>30</td>\n",
       "      <td>US</td>\n",
       "      <td>2778.00</td>\n",
       "      <td>2000.00</td>\n",
       "    </tr>\n",
       "    <tr>\n",
       "      <th>278069</th>\n",
       "      <td>484824490</td>\n",
       "      <td>Dracula: Son of the Dragon</td>\n",
       "      <td>Comics</td>\n",
       "      <td>Comics</td>\n",
       "      <td>USD</td>\n",
       "      <td>17-04-2013</td>\n",
       "      <td>14000.0</td>\n",
       "      <td>18-03-2013 16:54</td>\n",
       "      <td>15172.66</td>\n",
       "      <td>successful</td>\n",
       "      <td>329</td>\n",
       "      <td>US</td>\n",
       "      <td>15172.66</td>\n",
       "      <td>14000.00</td>\n",
       "    </tr>\n",
       "  </tbody>\n",
       "</table>\n",
       "</div>"
      ],
      "text/plain": [
       "                id                                               name  \\\n",
       "99838   1506962323                   2018 Comic Con/ Horror Con/ GMCC   \n",
       "15731   1079621785                        Ixion's The Four Disgracers   \n",
       "339459   799118140                      Irving Comics Inc. (Canceled)   \n",
       "100211  1508896926                                          Breakaway   \n",
       "170820  1869016023                             the Atomic Café Mobile   \n",
       "75113   1382708884                                             Shaken   \n",
       "258934   386894220  Happiness Ambassador Postcard Project Year: 20...   \n",
       "178566    19084902                      Unlikely Friends (Short Film)   \n",
       "33859   1171932479    Would you help a MONSTER make music? Yes or No?   \n",
       "278069   484824490                         Dracula: Son of the Dragon   \n",
       "\n",
       "            subcategory      category currency    deadline     goal  \\\n",
       "99838               Art           Art      USD  10-10-2017    600.0   \n",
       "15731           Theater       Theater      USD  26-04-2014   3500.0   \n",
       "339459           Comics        Comics      USD  16-04-2015  10000.0   \n",
       "100211           Shorts  Film & Video      USD  17-10-2011   5000.0   \n",
       "170820           Drinks          Food      USD  19-06-2015   5000.0   \n",
       "75113             Dance         Dance      USD  11-04-2011   2000.0   \n",
       "258934      Mixed Media           Art      USD  29-09-2012    800.0   \n",
       "178566            Drama  Film & Video      GBP  13-03-2015    150.0   \n",
       "33859   Classical Music         Music      USD  21-09-2014   2000.0   \n",
       "278069           Comics        Comics      USD  17-04-2013  14000.0   \n",
       "\n",
       "                launched   pledged       state  backers country  \\\n",
       "99838   31-08-2017 04:05    600.00  successful        4      US   \n",
       "15731   27-03-2014 20:21   2920.00      failed       54      US   \n",
       "339459  17-03-2015 20:58     75.00    canceled        1      US   \n",
       "100211  16-09-2011 20:11   5365.00  successful       60      US   \n",
       "170820  20-05-2015 10:47   5111.06  successful       53      US   \n",
       "75113   11-03-2011 05:13   2615.00  successful       51      US   \n",
       "258934  15-09-2012 01:29     80.00      failed        3      US   \n",
       "178566  03-02-2015 09:49      5.00      failed        1      GB   \n",
       "33859   22-08-2014 18:01   2778.00  successful       30      US   \n",
       "278069  18-03-2013 16:54  15172.66  successful      329      US   \n",
       "\n",
       "        usd_pledged_real  usd_goal_real  \n",
       "99838             600.00         600.00  \n",
       "15731            2920.00        3500.00  \n",
       "339459             75.00       10000.00  \n",
       "100211           5365.00        5000.00  \n",
       "170820           5111.06        5000.00  \n",
       "75113            2615.00        2000.00  \n",
       "258934             80.00         800.00  \n",
       "178566              7.39         221.71  \n",
       "33859            2778.00        2000.00  \n",
       "278069          15172.66       14000.00  "
      ]
     },
     "execution_count": 81,
     "metadata": {},
     "output_type": "execute_result"
    }
   ],
   "source": [
    "df = pd.read_csv(\"C:\\\\Users\\\\KXS26XY\\\\OneDrive - The Home Depot\\\\Desktop\\\\Data Science and Business Analytics\\\\KickStarterProjects.csv\")\n",
    "\n",
    "print(f'There are {df.shape[0]} rows and {df.shape[1]} columns in this dataset')\n",
    "# df.head(5)\n",
    "\n",
    "np.random.seed(1)\n",
    "df.sample(n=10)"
   ]
  },
  {
   "cell_type": "code",
   "execution_count": 82,
   "id": "cedaba20",
   "metadata": {},
   "outputs": [
    {
     "name": "stdout",
     "output_type": "stream",
     "text": [
      "<class 'pandas.core.frame.DataFrame'>\n",
      "RangeIndex: 378661 entries, 0 to 378660\n",
      "Data columns (total 14 columns):\n",
      " #   Column            Non-Null Count   Dtype  \n",
      "---  ------            --------------   -----  \n",
      " 0   id                378661 non-null  int64  \n",
      " 1   name              378657 non-null  object \n",
      " 2   subcategory       378661 non-null  object \n",
      " 3   category          378661 non-null  object \n",
      " 4   currency          378661 non-null  object \n",
      " 5   deadline          378661 non-null  object \n",
      " 6   goal              378661 non-null  float64\n",
      " 7   launched          378661 non-null  object \n",
      " 8   pledged           378661 non-null  float64\n",
      " 9   state             378661 non-null  object \n",
      " 10  backers           378661 non-null  int64  \n",
      " 11  country           378661 non-null  object \n",
      " 12  usd_pledged_real  378661 non-null  float64\n",
      " 13  usd_goal_real     378661 non-null  float64\n",
      "dtypes: float64(4), int64(2), object(8)\n",
      "memory usage: 40.4+ MB\n"
     ]
    }
   ],
   "source": [
    "df.info()"
   ]
  },
  {
   "cell_type": "code",
   "execution_count": 83,
   "id": "425463b0",
   "metadata": {},
   "outputs": [
    {
     "data": {
      "text/plain": [
       "name                4\n",
       "usd_goal_real       0\n",
       "usd_pledged_real    0\n",
       "country             0\n",
       "backers             0\n",
       "state               0\n",
       "pledged             0\n",
       "launched            0\n",
       "goal                0\n",
       "deadline            0\n",
       "currency            0\n",
       "category            0\n",
       "subcategory         0\n",
       "id                  0\n",
       "dtype: int64"
      ]
     },
     "execution_count": 83,
     "metadata": {},
     "output_type": "execute_result"
    }
   ],
   "source": [
    "# looking at which columns have the most missing values\n",
    "df.isnull().sum().sort_values(ascending = False)"
   ]
  },
  {
   "cell_type": "code",
   "execution_count": 84,
   "id": "277cf85d",
   "metadata": {},
   "outputs": [],
   "source": [
    "# dropping the null value rows from the dataset\n",
    "df = df.dropna(axis = 0)"
   ]
  },
  {
   "cell_type": "code",
   "execution_count": 64,
   "id": "f96d9f27",
   "metadata": {},
   "outputs": [
    {
     "data": {
      "text/plain": [
       "id                  0\n",
       "name                0\n",
       "subcategory         0\n",
       "category            0\n",
       "currency            0\n",
       "deadline            0\n",
       "goal                0\n",
       "launched            0\n",
       "pledged             0\n",
       "state               0\n",
       "backers             0\n",
       "country             0\n",
       "usd_pledged_real    0\n",
       "usd_goal_real       0\n",
       "dtype: int64"
      ]
     },
     "execution_count": 64,
     "metadata": {},
     "output_type": "execute_result"
    }
   ],
   "source": [
    "df.isnull().sum()"
   ]
  },
  {
   "cell_type": "code",
   "execution_count": 85,
   "id": "6881842e",
   "metadata": {},
   "outputs": [
    {
     "data": {
      "text/html": [
       "<div>\n",
       "<style scoped>\n",
       "    .dataframe tbody tr th:only-of-type {\n",
       "        vertical-align: middle;\n",
       "    }\n",
       "\n",
       "    .dataframe tbody tr th {\n",
       "        vertical-align: top;\n",
       "    }\n",
       "\n",
       "    .dataframe thead th {\n",
       "        text-align: right;\n",
       "    }\n",
       "</style>\n",
       "<table border=\"1\" class=\"dataframe\">\n",
       "  <thead>\n",
       "    <tr style=\"text-align: right;\">\n",
       "      <th></th>\n",
       "      <th>state</th>\n",
       "    </tr>\n",
       "  </thead>\n",
       "  <tbody>\n",
       "    <tr>\n",
       "      <th>0</th>\n",
       "      <td>failed</td>\n",
       "    </tr>\n",
       "  </tbody>\n",
       "</table>\n",
       "</div>"
      ],
      "text/plain": [
       "    state\n",
       "0  failed"
      ]
     },
     "execution_count": 85,
     "metadata": {},
     "output_type": "execute_result"
    }
   ],
   "source": [
    "df['state'].unique()\n",
    "df[['state']].mode()"
   ]
  },
  {
   "cell_type": "code",
   "execution_count": 86,
   "id": "3f188d15",
   "metadata": {},
   "outputs": [
    {
     "data": {
      "text/plain": [
       "backers    12.0\n",
       "dtype: float64"
      ]
     },
     "execution_count": 86,
     "metadata": {},
     "output_type": "execute_result"
    }
   ],
   "source": [
    "df[['backers']].mean()\n",
    "df[['backers']].median()"
   ]
  },
  {
   "cell_type": "code",
   "execution_count": 87,
   "id": "4b7eda61",
   "metadata": {},
   "outputs": [
    {
     "name": "stderr",
     "output_type": "stream",
     "text": [
      "C:\\Users\\KXS26XY\\AppData\\Local\\Continuum\\anaconda3\\lib\\site-packages\\seaborn\\_decorators.py:43: FutureWarning: Pass the following variable as a keyword arg: x. From version 0.12, the only valid positional argument will be `data`, and passing other arguments without an explicit keyword will result in an error or misinterpretation.\n",
      "  FutureWarning\n"
     ]
    },
    {
     "data": {
      "text/plain": [
       "<AxesSubplot:xlabel='backers'>"
      ]
     },
     "execution_count": 87,
     "metadata": {},
     "output_type": "execute_result"
    },
    {
     "data": {
      "image/png": "[encoded data removed]",
      "text/plain": [
       "<Figure size 432x288 with 1 Axes>"
      ]
     },
     "metadata": {
      "needs_background": "light"
     },
     "output_type": "display_data"
    }
   ],
   "source": [
    "sns.boxplot(df['backers'])"
   ]
  },
  {
   "cell_type": "code",
   "execution_count": 79,
   "id": "147470f3",
   "metadata": {},
   "outputs": [
    {
     "data": {
      "image/png": "[encoded data removed]",
      "text/plain": [
       "<Figure size 432x288 with 1 Axes>"
      ]
     },
     "metadata": {
      "needs_background": "light"
     },
     "output_type": "display_data"
    }
   ],
   "source": [
    "from sklearn.preprocessing import MinMaxScaler\n",
    "\n",
    "# df['usd_goal_real'].hist(bins=20)\n",
    "# plt.title('usd_goal_real before minmax scaling')\n",
    "# plt.show()\n",
    "\n",
    "df[['usd_goal_real']] = MinMaxScaler().fit_transform(df[['usd_goal_real']])\n",
    "\n",
    "df['usd_goal_real'].hist(bins=20)\n",
    "plt.title('usd_goal_real before minmax scaling')\n",
    "plt.show()\n"
   ]
  },
  {
   "cell_type": "code",
   "execution_count": 69,
   "id": "43db5ea7",
   "metadata": {},
   "outputs": [
    {
     "data": {
      "text/plain": [
       "category\n",
       "Art             1.015468e+08\n",
       "Comics          7.464365e+07\n",
       "Crafts          1.776030e+07\n",
       "Dance           1.390693e+07\n",
       "Design          8.154909e+08\n",
       "Fashion         1.494227e+08\n",
       "Film & Video    4.045743e+08\n",
       "Food            1.313787e+08\n",
       "Games           7.703317e+08\n",
       "Journalism      1.530200e+07\n",
       "Music           2.072948e+08\n",
       "Photography     3.950123e+07\n",
       "Publishing      1.450902e+08\n",
       "Technology      7.356088e+08\n",
       "Theater         4.471301e+07\n",
       "Name: pledged, dtype: float64"
      ]
     },
     "execution_count": 69,
     "metadata": {},
     "output_type": "execute_result"
    }
   ],
   "source": [
    "df['pledged'].groupby(df['category']).sum()"
   ]
  },
  {
   "cell_type": "code",
   "execution_count": 70,
   "id": "5b010b63",
   "metadata": {},
   "outputs": [],
   "source": [
    "df['launched'] = pd.to_datetime(df['launched'])\n",
    "df['launch month'] = df['launched'].dt.month"
   ]
  },
  {
   "cell_type": "code",
   "execution_count": 76,
   "id": "8be6a3f4",
   "metadata": {},
   "outputs": [
    {
     "data": {
      "text/plain": [
       "launch month\n",
       "1     34346\n",
       "2     29876\n",
       "3     32837\n",
       "4     31038\n",
       "5     31573\n",
       "6     31381\n",
       "7     34477\n",
       "8     31619\n",
       "9     31538\n",
       "10    33409\n",
       "11    32135\n",
       "12    24428\n",
       "Name: name, dtype: int64"
      ]
     },
     "execution_count": 76,
     "metadata": {},
     "output_type": "execute_result"
    }
   ],
   "source": [
    "df['name'].groupby(df['launch month']).count()"
   ]
  },
  {
   "cell_type": "code",
   "execution_count": 88,
   "id": "986e3b21",
   "metadata": {},
   "outputs": [
    {
     "data": {
      "text/plain": [
       "0          1533.95\n",
       "1         30000.00\n",
       "2         45000.00\n",
       "3          5000.00\n",
       "4         19500.00\n",
       "            ...   \n",
       "378656    50000.00\n",
       "378657     1500.00\n",
       "378658    15000.00\n",
       "378659    15000.00\n",
       "378660     2000.00\n",
       "Name: usd_goal_real, Length: 378657, dtype: float64"
      ]
     },
     "execution_count": 88,
     "metadata": {},
     "output_type": "execute_result"
    }
   ],
   "source": [
    "df['usd_goal_real']"
   ]
  },
  {
   "cell_type": "code",
   "execution_count": 89,
   "id": "21c1a2ad",
   "metadata": {},
   "outputs": [
    {
     "data": {
      "image/png": "[encoded data removed]",
      "text/plain": [
       "<Figure size 432x288 with 1 Axes>"
      ]
     },
     "metadata": {
      "needs_background": "light"
     },
     "output_type": "display_data"
    }
   ],
   "source": [
    "plt.hist(np.log(df['usd_goal_real']), 50)\n",
    "plt.title('log(usd_goal_real)')\n",
    "plt.show()"
   ]
  },
  {
   "cell_type": "code",
   "execution_count": 96,
   "id": "dae3b57a",
   "metadata": {},
   "outputs": [
    {
     "data": {
      "text/plain": [
       "0                           The Songs of Adelaide & Abullah\n",
       "1             Greeting From Earth: ZGAC Arts Capsule For ET\n",
       "2                                            Where is Hank?\n",
       "3         ToshiCapital Rekordz Needs Help to Complete Album\n",
       "4         Community Film Project: The Art of Neighborhoo...\n",
       "                                ...                        \n",
       "378656    ChknTruk Nationwide Charity Drive 2014 (Canceled)\n",
       "378657                                            The Tribe\n",
       "378658    Walls of Remedy- New lesbian Romantic Comedy f...\n",
       "378659                             BioDefense Education Kit\n",
       "378660                    Nou Renmen Ayiti!  We Love Haiti!\n",
       "Name: name, Length: 378657, dtype: object"
      ]
     },
     "execution_count": 96,
     "metadata": {},
     "output_type": "execute_result"
    }
   ],
   "source": [
    "df['name']"
   ]
  },
  {
   "cell_type": "code",
   "execution_count": null,
   "id": "132c902a",
   "metadata": {},
   "outputs": [],
   "source": []
  }
 ],
 "metadata": {
  "kernelspec": {
   "display_name": "Python 3",
   "language": "python",
   "name": "python3"
  },
  "language_info": {
   "codemirror_mode": {
    "name": "ipython",
    "version": 3
   },
   "file_extension": ".py",
   "mimetype": "text/x-python",
   "name": "python",
   "nbconvert_exporter": "python",
   "pygments_lexer": "ipython3",
   "version": "3.7.4"
  }
 },
 "nbformat": 4,
 "nbformat_minor": 5
}
