{
 "cells": [
  {
   "cell_type": "markdown",
   "metadata": {},
   "source": [
    "# LOOPING STATEMENTS EXERCISE"
   ]
  },
  {
   "cell_type": "markdown",
   "metadata": {},
   "source": [
    "---------------"
   ]
  },
  {
   "cell_type": "markdown",
   "metadata": {},
   "source": [
    "### 1.Print -10 to -1 using for loop"
   ]
  },
  {
   "cell_type": "code",
   "execution_count": 2,
   "metadata": {},
   "outputs": [
    {
     "name": "stdout",
     "output_type": "stream",
     "text": [
      "-10\n",
      "-9\n",
      "-8\n",
      "-7\n",
      "-6\n",
      "-5\n",
      "-4\n",
      "-3\n",
      "-2\n",
      "-1\n"
     ]
    }
   ],
   "source": [
    "for i in range (-10, 0):\n",
    "    print (i)"
   ]
  },
  {
   "cell_type": "markdown",
   "metadata": {},
   "source": [
    "### 2.Using while loop print numbers 1 to 10"
   ]
  },
  {
   "cell_type": "code",
   "execution_count": 7,
   "metadata": {},
   "outputs": [
    {
     "name": "stdout",
     "output_type": "stream",
     "text": [
      "1\n",
      "2\n",
      "3\n",
      "4\n",
      "5\n",
      "6\n",
      "7\n",
      "8\n",
      "9\n",
      "10\n"
     ]
    }
   ],
   "source": [
    "i = 1\n",
    "while i in range(1, 11):\n",
    "    print (i)\n",
    "    i = i+1\n"
   ]
  },
  {
   "cell_type": "markdown",
   "metadata": {},
   "source": [
    "### 3.Using for loop print first ten even numbers"
   ]
  },
  {
   "cell_type": "code",
   "execution_count": 9,
   "metadata": {},
   "outputs": [
    {
     "name": "stdout",
     "output_type": "stream",
     "text": [
      "2\n",
      "4\n",
      "6\n",
      "8\n",
      "10\n",
      "12\n",
      "14\n",
      "16\n",
      "18\n",
      "20\n"
     ]
    }
   ],
   "source": [
    "for i in range (1,21):\n",
    "    if i%2 == 0:\n",
    "        print (i)\n",
    "    "
   ]
  },
  {
   "cell_type": "markdown",
   "metadata": {},
   "source": [
    "### 4.Using while loop generate the table of 5"
   ]
  },
  {
   "cell_type": "code",
   "execution_count": 13,
   "metadata": {},
   "outputs": [
    {
     "name": "stdout",
     "output_type": "stream",
     "text": [
      "5*1= 5\n",
      "5*2= 10\n",
      "5*3= 15\n",
      "5*4= 20\n",
      "5*5= 25\n",
      "5*6= 30\n",
      "5*7= 35\n",
      "5*8= 40\n",
      "5*9= 45\n",
      "5*10= 50\n",
      "5*11= 55\n",
      "5*12= 60\n",
      "5*13= 65\n",
      "5*14= 70\n",
      "5*15= 75\n",
      "5*16= 80\n",
      "5*17= 85\n",
      "5*18= 90\n",
      "5*19= 95\n",
      "5*20= 100\n",
      "5*21= 105\n",
      "5*22= 110\n",
      "5*23= 115\n",
      "5*24= 120\n",
      "5*25= 125\n",
      "5*26= 130\n",
      "5*27= 135\n",
      "5*28= 140\n",
      "5*29= 145\n",
      "5*30= 150\n",
      "5*31= 155\n",
      "5*32= 160\n",
      "5*33= 165\n",
      "5*34= 170\n",
      "5*35= 175\n",
      "5*36= 180\n",
      "5*37= 185\n",
      "5*38= 190\n",
      "5*39= 195\n",
      "5*40= 200\n",
      "5*41= 205\n",
      "5*42= 210\n",
      "5*43= 215\n",
      "5*44= 220\n",
      "5*45= 225\n",
      "5*46= 230\n",
      "5*47= 235\n",
      "5*48= 240\n",
      "5*49= 245\n",
      "5*50= 250\n",
      "5*51= 255\n",
      "5*52= 260\n",
      "5*53= 265\n",
      "5*54= 270\n",
      "5*55= 275\n",
      "5*56= 280\n",
      "5*57= 285\n",
      "5*58= 290\n",
      "5*59= 295\n",
      "5*60= 300\n",
      "5*61= 305\n",
      "5*62= 310\n",
      "5*63= 315\n",
      "5*64= 320\n",
      "5*65= 325\n",
      "5*66= 330\n",
      "5*67= 335\n",
      "5*68= 340\n",
      "5*69= 345\n",
      "5*70= 350\n",
      "5*71= 355\n",
      "5*72= 360\n",
      "5*73= 365\n",
      "5*74= 370\n",
      "5*75= 375\n",
      "5*76= 380\n",
      "5*77= 385\n",
      "5*78= 390\n",
      "5*79= 395\n",
      "5*80= 400\n",
      "5*81= 405\n",
      "5*82= 410\n",
      "5*83= 415\n",
      "5*84= 420\n",
      "5*85= 425\n",
      "5*86= 430\n",
      "5*87= 435\n",
      "5*88= 440\n",
      "5*89= 445\n",
      "5*90= 450\n",
      "5*91= 455\n",
      "5*92= 460\n",
      "5*93= 465\n",
      "5*94= 470\n",
      "5*95= 475\n",
      "5*96= 480\n",
      "5*97= 485\n",
      "5*98= 490\n",
      "5*99= 495\n"
     ]
    }
   ],
   "source": [
    "n = 5\n",
    "i = 1\n",
    "while i in range(1,100):\n",
    "    print(\"{}*{}=\".format(n,i), n*i)\n",
    "    i = i+1\n",
    "\n",
    "    "
   ]
  },
  {
   "cell_type": "markdown",
   "metadata": {},
   "source": [
    "### 5.Using for loop generate the table of 8"
   ]
  },
  {
   "cell_type": "code",
   "execution_count": 14,
   "metadata": {},
   "outputs": [
    {
     "name": "stdout",
     "output_type": "stream",
     "text": [
      "1*8= 8\n",
      "2*8= 16\n",
      "3*8= 24\n",
      "4*8= 32\n",
      "5*8= 40\n",
      "6*8= 48\n",
      "7*8= 56\n",
      "8*8= 64\n",
      "9*8= 72\n",
      "10*8= 80\n",
      "11*8= 88\n",
      "12*8= 96\n",
      "13*8= 104\n",
      "14*8= 112\n",
      "15*8= 120\n",
      "16*8= 128\n",
      "17*8= 136\n",
      "18*8= 144\n",
      "19*8= 152\n",
      "20*8= 160\n",
      "21*8= 168\n",
      "22*8= 176\n",
      "23*8= 184\n",
      "24*8= 192\n",
      "25*8= 200\n",
      "26*8= 208\n",
      "27*8= 216\n",
      "28*8= 224\n",
      "29*8= 232\n",
      "30*8= 240\n",
      "31*8= 248\n",
      "32*8= 256\n",
      "33*8= 264\n",
      "34*8= 272\n",
      "35*8= 280\n",
      "36*8= 288\n",
      "37*8= 296\n",
      "38*8= 304\n",
      "39*8= 312\n",
      "40*8= 320\n",
      "41*8= 328\n",
      "42*8= 336\n",
      "43*8= 344\n",
      "44*8= 352\n",
      "45*8= 360\n",
      "46*8= 368\n",
      "47*8= 376\n",
      "48*8= 384\n",
      "49*8= 392\n",
      "50*8= 400\n",
      "51*8= 408\n",
      "52*8= 416\n",
      "53*8= 424\n",
      "54*8= 432\n",
      "55*8= 440\n",
      "56*8= 448\n",
      "57*8= 456\n",
      "58*8= 464\n",
      "59*8= 472\n",
      "60*8= 480\n",
      "61*8= 488\n",
      "62*8= 496\n",
      "63*8= 504\n",
      "64*8= 512\n",
      "65*8= 520\n",
      "66*8= 528\n",
      "67*8= 536\n",
      "68*8= 544\n",
      "69*8= 552\n",
      "70*8= 560\n",
      "71*8= 568\n",
      "72*8= 576\n",
      "73*8= 584\n",
      "74*8= 592\n",
      "75*8= 600\n",
      "76*8= 608\n",
      "77*8= 616\n",
      "78*8= 624\n",
      "79*8= 632\n",
      "80*8= 640\n",
      "81*8= 648\n",
      "82*8= 656\n",
      "83*8= 664\n",
      "84*8= 672\n",
      "85*8= 680\n",
      "86*8= 688\n",
      "87*8= 696\n",
      "88*8= 704\n",
      "89*8= 712\n",
      "90*8= 720\n",
      "91*8= 728\n",
      "92*8= 736\n",
      "93*8= 744\n",
      "94*8= 752\n",
      "95*8= 760\n",
      "96*8= 768\n",
      "97*8= 776\n",
      "98*8= 784\n",
      "99*8= 792\n"
     ]
    }
   ],
   "source": [
    "n = 8 \n",
    "for i in range(1,100):\n",
    "    print(\"{}*{}=\".format(i,n), i*n)\n"
   ]
  },
  {
   "cell_type": "markdown",
   "metadata": {},
   "source": [
    "### 6. For numbers 1 to 100, if a number is divisible by 3, then print Fizz.\n",
    "### If a number is divisible by 5, then print Buzz.\n",
    "### If a number is divisible by 3 and 5 both, then print FizzBuzz\n",
    "### If a number is neither divisible by 3 or 5, just print the number.\n",
    "\n",
    "Hint: use range(1,101) function  to generate numbers from 1 to 100"
   ]
  },
  {
   "cell_type": "code",
   "execution_count": 15,
   "metadata": {},
   "outputs": [
    {
     "name": "stdout",
     "output_type": "stream",
     "text": [
      "1\n",
      "2\n",
      "Fizz\n",
      "4\n",
      "Buzz\n",
      "Fizz\n",
      "7\n",
      "8\n",
      "Fizz\n",
      "Buzz\n",
      "11\n",
      "Fizz\n",
      "13\n",
      "14\n",
      "FizBuzz\n",
      "16\n",
      "17\n",
      "Fizz\n",
      "19\n",
      "Buzz\n",
      "Fizz\n",
      "22\n",
      "23\n",
      "Fizz\n",
      "Buzz\n",
      "26\n",
      "Fizz\n",
      "28\n",
      "29\n",
      "FizBuzz\n",
      "31\n",
      "32\n",
      "Fizz\n",
      "34\n",
      "Buzz\n",
      "Fizz\n",
      "37\n",
      "38\n",
      "Fizz\n",
      "Buzz\n",
      "41\n",
      "Fizz\n",
      "43\n",
      "44\n",
      "FizBuzz\n",
      "46\n",
      "47\n",
      "Fizz\n",
      "49\n",
      "Buzz\n",
      "Fizz\n",
      "52\n",
      "53\n",
      "Fizz\n",
      "Buzz\n",
      "56\n",
      "Fizz\n",
      "58\n",
      "59\n",
      "FizBuzz\n",
      "61\n",
      "62\n",
      "Fizz\n",
      "64\n",
      "Buzz\n",
      "Fizz\n",
      "67\n",
      "68\n",
      "Fizz\n",
      "Buzz\n",
      "71\n",
      "Fizz\n",
      "73\n",
      "74\n",
      "FizBuzz\n",
      "76\n",
      "77\n",
      "Fizz\n",
      "79\n",
      "Buzz\n",
      "Fizz\n",
      "82\n",
      "83\n",
      "Fizz\n",
      "Buzz\n",
      "86\n",
      "Fizz\n",
      "88\n",
      "89\n",
      "FizBuzz\n",
      "91\n",
      "92\n",
      "Fizz\n",
      "94\n",
      "Buzz\n",
      "Fizz\n",
      "97\n",
      "98\n",
      "Fizz\n",
      "Buzz\n"
     ]
    }
   ],
   "source": [
    "for i in range(1,101):\n",
    "    if (i%5 == 0 and i%3 == 0):\n",
    "        print(\"FizBuzz\")\n",
    "    elif i%3 == 0:\n",
    "        print(\"Fizz\")\n",
    "    elif i%5 == 0:\n",
    "        print(\"Buzz\")\n",
    "    else:\n",
    "        print(i)\n"
   ]
  },
  {
   "cell_type": "markdown",
   "metadata": {},
   "source": [
    "### 7.  Using the range function find the sum of all numbers from 1 to 100.\n",
    "    For the numbers in the range (1,100):1+2+3+4+5......+100 = 5050"
   ]
  },
  {
   "cell_type": "markdown",
   "metadata": {},
   "source": [
    "### 8. Write a program which will find all such numbers which are divisible by 7 but are not a multiple of 5, between 202 and 320 (both included)."
   ]
  },
  {
   "cell_type": "code",
   "execution_count": 16,
   "metadata": {},
   "outputs": [
    {
     "name": "stdout",
     "output_type": "stream",
     "text": [
      "203\n",
      "217\n",
      "224\n",
      "231\n",
      "238\n",
      "252\n",
      "259\n",
      "266\n",
      "273\n",
      "287\n",
      "294\n",
      "301\n",
      "308\n"
     ]
    }
   ],
   "source": [
    "for i in range(202, 321):\n",
    "    if i%7 == 0 and i%5 != 0:\n",
    "        print(i)"
   ]
  },
  {
   "cell_type": "markdown",
   "metadata": {},
   "source": [
    "### 9. Python Program to count the number of vowels in a string.\n",
    "st = \"Data Science\"\n",
    "\n",
    "Output: No of vowels = 5"
   ]
  },
  {
   "cell_type": "code",
   "execution_count": 19,
   "metadata": {},
   "outputs": [
    {
     "name": "stdout",
     "output_type": "stream",
     "text": [
      "Output: No of vowels = 5\n"
     ]
    }
   ],
   "source": [
    "st = \"Data Science\"\n",
    "count = 0\n",
    "vowels = [\"a\", \"e\", \"i\", \"o\", \"u\"]\n",
    "for i in st:\n",
    "    if i in vowels:\n",
    "        count = count+1\n",
    "print(\"Output: No of vowels =\", count)"
   ]
  },
  {
   "cell_type": "markdown",
   "metadata": {},
   "source": [
    "### 10. Print Data Science 5 times using for loop"
   ]
  },
  {
   "cell_type": "code",
   "execution_count": 20,
   "metadata": {},
   "outputs": [
    {
     "name": "stdout",
     "output_type": "stream",
     "text": [
      "Data Science\n",
      "Data Science\n",
      "Data Science\n",
      "Data Science\n",
      "Data Science\n"
     ]
    }
   ],
   "source": [
    "st = \"Data Science\"\n",
    "for i in range(0,5):\n",
    "    print(st)"
   ]
  },
  {
   "cell_type": "code",
   "execution_count": null,
   "metadata": {},
   "outputs": [],
   "source": []
  }
 ],
 "metadata": {
  "kernelspec": {
   "display_name": "Python 3",
   "language": "python",
   "name": "python3"
  },
  "language_info": {
   "codemirror_mode": {
    "name": "ipython",
    "version": 3
   },
   "file_extension": ".py",
   "mimetype": "text/x-python",
   "name": "python",
   "nbconvert_exporter": "python",
   "pygments_lexer": "ipython3",
   "version": "3.7.4"
  }
 },
 "nbformat": 4,
 "nbformat_minor": 4
}
