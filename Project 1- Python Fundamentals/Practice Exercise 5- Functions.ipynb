{
 "cells": [
  {
   "cell_type": "markdown",
   "metadata": {},
   "source": [
    "# USER DEFINED FUNCTION AND LAMBDA FUNCTIONS EXERCISE"
   ]
  },
  {
   "cell_type": "markdown",
   "metadata": {},
   "source": [
    "------------"
   ]
  },
  {
   "cell_type": "markdown",
   "metadata": {},
   "source": [
    "### 1.Write a function to add, subtract, multiply and divide two variables passed to it and print the result "
   ]
  },
  {
   "cell_type": "code",
   "execution_count": 1,
   "metadata": {},
   "outputs": [
    {
     "name": "stdout",
     "output_type": "stream",
     "text": [
      "5 + 7= 12\n",
      "5 - 7= -2\n",
      "5 * 7= 35\n",
      "5 / 7= 0.7142857142857143\n"
     ]
    }
   ],
   "source": [
    "def basic_math(a,b):\n",
    "    print(\"{} + {}=\".format(a,b), a + b)\n",
    "    print(\"{} - {}=\".format(a,b), a - b)\n",
    "    print(\"{} * {}=\".format(a,b), a * b)\n",
    "    print(\"{} / {}=\".format(a,b), a / b)\n",
    "\n",
    "    \n",
    "basic_math(5,7)"
   ]
  },
  {
   "cell_type": "markdown",
   "metadata": {},
   "source": [
    "### 2.Write a Python function given range (1,10) both included, that gives the square of every number"
   ]
  },
  {
   "cell_type": "code",
   "execution_count": 2,
   "metadata": {},
   "outputs": [
    {
     "name": "stdout",
     "output_type": "stream",
     "text": [
      "1\n",
      "4\n",
      "9\n",
      "16\n",
      "25\n",
      "36\n",
      "49\n",
      "64\n",
      "81\n",
      "100\n"
     ]
    }
   ],
   "source": [
    "def square():\n",
    "    for i in range(1,11):\n",
    "        print(i**2)\n",
    "\n",
    "square()"
   ]
  },
  {
   "cell_type": "markdown",
   "metadata": {},
   "source": [
    "### 3.Write a function to calculate simple interest\n",
    "\n",
    "simple interest = (Principal amount * Annual Rate of interest * Time(in years))/100\n",
    "\n",
    "Take values as follows\n",
    "\n",
    "Principal Amount = 1000\n",
    "\n",
    "Rate of interest = 3%\n",
    "\n",
    "Time = 5 years"
   ]
  },
  {
   "cell_type": "code",
   "execution_count": 3,
   "metadata": {},
   "outputs": [
    {
     "data": {
      "text/plain": [
       "750.0"
      ]
     },
     "execution_count": 3,
     "metadata": {},
     "output_type": "execute_result"
    }
   ],
   "source": [
    "def simple_interest(pa, rate, time):\n",
    "    return (pa * rate * time / 100)\n",
    "\n",
    "simple_interest(5000, 3, 5)"
   ]
  },
  {
   "cell_type": "markdown",
   "metadata": {},
   "source": [
    "### 4. Write a function to check the number is divisible by 25. The function should return True if divisible and \"Not divisible if not"
   ]
  },
  {
   "cell_type": "code",
   "execution_count": 5,
   "metadata": {},
   "outputs": [
    {
     "data": {
      "text/plain": [
       "True"
      ]
     },
     "execution_count": 5,
     "metadata": {},
     "output_type": "execute_result"
    }
   ],
   "source": [
    "def div_by_25(num):\n",
    "    if num%5 == 0:\n",
    "        return True\n",
    "    else:\n",
    "        print(\"Not Divisible\")\n",
    "        \n",
    "div_by_25(250)"
   ]
  },
  {
   "cell_type": "markdown",
   "metadata": {},
   "source": [
    "### 5.Define a function that takes an input, squares it, adds 5, then returns the answer"
   ]
  },
  {
   "cell_type": "code",
   "execution_count": 6,
   "metadata": {},
   "outputs": [
    {
     "data": {
      "text/plain": [
       "105"
      ]
     },
     "execution_count": 6,
     "metadata": {},
     "output_type": "execute_result"
    }
   ],
   "source": [
    "def some_math(num):\n",
    "    return(num**2 + 5)\n",
    "\n",
    "some_math(10)"
   ]
  },
  {
   "cell_type": "markdown",
   "metadata": {},
   "source": [
    "### 6.Using lambda function perform the following task : take an input, squares it, add 5, then returns the answer"
   ]
  },
  {
   "cell_type": "code",
   "execution_count": 17,
   "metadata": {},
   "outputs": [
    {
     "name": "stdout",
     "output_type": "stream",
     "text": [
      "30\n"
     ]
    }
   ],
   "source": [
    "x = lambda num: num*num + 5\n",
    "print(x(5))\n"
   ]
  },
  {
   "cell_type": "markdown",
   "metadata": {},
   "source": [
    "### 7. Write a function to calculate the power of a number raised to other ( a^b )"
   ]
  },
  {
   "cell_type": "code",
   "execution_count": 18,
   "metadata": {},
   "outputs": [
    {
     "data": {
      "text/plain": [
       "8"
      ]
     },
     "execution_count": 18,
     "metadata": {},
     "output_type": "execute_result"
    }
   ],
   "source": [
    "def power(a,b):\n",
    "    return(a**b)\n",
    "\n",
    "power(2,3)"
   ]
  },
  {
   "cell_type": "markdown",
   "metadata": {},
   "source": [
    "### 8. Write a function to calculate the area of a triangle\n",
    "\n",
    "area of triangle = 1/2 * base * height"
   ]
  },
  {
   "cell_type": "code",
   "execution_count": 19,
   "metadata": {},
   "outputs": [
    {
     "data": {
      "text/plain": [
       "12.0"
      ]
     },
     "execution_count": 19,
     "metadata": {},
     "output_type": "execute_result"
    }
   ],
   "source": [
    "def area_triangle(base, height):\n",
    "    return(0.5*base*height)\n",
    "\n",
    "area_triangle(12,2)"
   ]
  },
  {
   "cell_type": "markdown",
   "metadata": {},
   "source": [
    "### 9. Create a function that takes country as the input and returns \"I am from *Country* \""
   ]
  },
  {
   "cell_type": "code",
   "execution_count": 22,
   "metadata": {},
   "outputs": [
    {
     "name": "stdout",
     "output_type": "stream",
     "text": [
      "I am from Pakistan\n"
     ]
    }
   ],
   "source": [
    "def country(country):\n",
    "#     return(\"I am from {}\".format(country))\n",
    "    print(\"I am from\", country)\n",
    "\n",
    "country(\"Pakistan\")\n",
    "    "
   ]
  },
  {
   "cell_type": "markdown",
   "metadata": {},
   "source": [
    "### 10. Write a function to convert degree Celcius temperature to Fahrenheit"
   ]
  },
  {
   "cell_type": "code",
   "execution_count": 32,
   "metadata": {},
   "outputs": [
    {
     "data": {
      "text/plain": [
       "('Farenheit =', 68.0)"
      ]
     },
     "execution_count": 32,
     "metadata": {},
     "output_type": "execute_result"
    }
   ],
   "source": [
    "def temp_conversion(celcius):\n",
    "    return(\"Farenheit =\", 1.8 * celcius + 32)\n",
    "\n",
    "temp_conversion(20)"
   ]
  },
  {
   "cell_type": "code",
   "execution_count": 35,
   "metadata": {},
   "outputs": [
    {
     "name": "stdout",
     "output_type": "stream",
     "text": [
      "range(0, 6)\n"
     ]
    }
   ],
   "source": [
    "print(range(6))"
   ]
  }
 ],
 "metadata": {
  "kernelspec": {
   "display_name": "Python 3",
   "language": "python",
   "name": "python3"
  },
  "language_info": {
   "codemirror_mode": {
    "name": "ipython",
    "version": 3
   },
   "file_extension": ".py",
   "mimetype": "text/x-python",
   "name": "python",
   "nbconvert_exporter": "python",
   "pygments_lexer": "ipython3",
   "version": "3.7.4"
  }
 },
 "nbformat": 4,
 "nbformat_minor": 4
}
