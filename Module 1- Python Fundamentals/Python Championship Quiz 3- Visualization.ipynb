{
 "cells": [
  {
   "cell_type": "code",
   "execution_count": 1,
   "metadata": {},
   "outputs": [],
   "source": [
    "import numpy as np\n",
    "import pandas as pd\n",
    "import seaborn as sns"
   ]
  },
  {
   "cell_type": "code",
   "execution_count": 2,
   "metadata": {},
   "outputs": [
    {
     "data": {
      "text/html": [
       "<div>\n",
       "<style scoped>\n",
       "    .dataframe tbody tr th:only-of-type {\n",
       "        vertical-align: middle;\n",
       "    }\n",
       "\n",
       "    .dataframe tbody tr th {\n",
       "        vertical-align: top;\n",
       "    }\n",
       "\n",
       "    .dataframe thead th {\n",
       "        text-align: right;\n",
       "    }\n",
       "</style>\n",
       "<table border=\"1\" class=\"dataframe\">\n",
       "  <thead>\n",
       "    <tr style=\"text-align: right;\">\n",
       "      <th></th>\n",
       "      <th>Rating</th>\n",
       "      <th>Reviews</th>\n",
       "      <th>Book_title</th>\n",
       "      <th>Description</th>\n",
       "      <th>Number_Of_Pages</th>\n",
       "      <th>Type</th>\n",
       "      <th>Price</th>\n",
       "    </tr>\n",
       "  </thead>\n",
       "  <tbody>\n",
       "    <tr>\n",
       "      <th>0</th>\n",
       "      <td>4.17</td>\n",
       "      <td>3,829</td>\n",
       "      <td>The Elements of Style</td>\n",
       "      <td>This style manual offers practical advice on i...</td>\n",
       "      <td>105</td>\n",
       "      <td>Hardcover</td>\n",
       "      <td>9.323529</td>\n",
       "    </tr>\n",
       "    <tr>\n",
       "      <th>1</th>\n",
       "      <td>4.01</td>\n",
       "      <td>1,406</td>\n",
       "      <td>The Information: A History, a Theory, a Flood</td>\n",
       "      <td>James Gleick, the author of the best sellers C...</td>\n",
       "      <td>527</td>\n",
       "      <td>Hardcover</td>\n",
       "      <td>11.000000</td>\n",
       "    </tr>\n",
       "    <tr>\n",
       "      <th>2</th>\n",
       "      <td>3.33</td>\n",
       "      <td>0</td>\n",
       "      <td>Responsive Web Design Overview For Beginners</td>\n",
       "      <td>In Responsive Web Design Overview For Beginner...</td>\n",
       "      <td>50</td>\n",
       "      <td>Kindle Edition</td>\n",
       "      <td>11.267647</td>\n",
       "    </tr>\n",
       "    <tr>\n",
       "      <th>3</th>\n",
       "      <td>3.97</td>\n",
       "      <td>1,658</td>\n",
       "      <td>Ghost in the Wires: My Adventures as the World...</td>\n",
       "      <td>If they were a hall of fame or shame for compu...</td>\n",
       "      <td>393</td>\n",
       "      <td>Hardcover</td>\n",
       "      <td>12.873529</td>\n",
       "    </tr>\n",
       "    <tr>\n",
       "      <th>4</th>\n",
       "      <td>4.06</td>\n",
       "      <td>1,325</td>\n",
       "      <td>How Google Works</td>\n",
       "      <td>Both Eric Schmidt and Jonathan Rosenberg came ...</td>\n",
       "      <td>305</td>\n",
       "      <td>Kindle Edition</td>\n",
       "      <td>13.164706</td>\n",
       "    </tr>\n",
       "  </tbody>\n",
       "</table>\n",
       "</div>"
      ],
      "text/plain": [
       "   Rating Reviews                                         Book_title  \\\n",
       "0    4.17   3,829                              The Elements of Style   \n",
       "1    4.01   1,406      The Information: A History, a Theory, a Flood   \n",
       "2    3.33       0       Responsive Web Design Overview For Beginners   \n",
       "3    3.97   1,658  Ghost in the Wires: My Adventures as the World...   \n",
       "4    4.06   1,325                                   How Google Works   \n",
       "\n",
       "                                         Description  Number_Of_Pages  \\\n",
       "0  This style manual offers practical advice on i...              105   \n",
       "1  James Gleick, the author of the best sellers C...              527   \n",
       "2  In Responsive Web Design Overview For Beginner...               50   \n",
       "3  If they were a hall of fame or shame for compu...              393   \n",
       "4  Both Eric Schmidt and Jonathan Rosenberg came ...              305   \n",
       "\n",
       "             Type      Price  \n",
       "0       Hardcover   9.323529  \n",
       "1       Hardcover  11.000000  \n",
       "2  Kindle Edition  11.267647  \n",
       "3       Hardcover  12.873529  \n",
       "4  Kindle Edition  13.164706  "
      ]
     },
     "execution_count": 2,
     "metadata": {},
     "output_type": "execute_result"
    }
   ],
   "source": [
    "dataset = pd.read_csv('C:\\\\Users\\\\KXS26XY\\\\OneDrive - The Home Depot\\\\Desktop\\\\Data Science and Business Analytics\\\\prog_book.csv')\n",
    "dataset.head()"
   ]
  },
  {
   "cell_type": "code",
   "execution_count": 3,
   "metadata": {},
   "outputs": [
    {
     "data": {
      "text/plain": [
       "Paperback                156\n",
       "Hardcover                 95\n",
       "Kindle Edition            10\n",
       "ebook                      7\n",
       "Unknown Binding            2\n",
       "Boxed Set - Hardcover      1\n",
       "Name: Type, dtype: int64"
      ]
     },
     "execution_count": 3,
     "metadata": {},
     "output_type": "execute_result"
    }
   ],
   "source": [
    "# Which type of book is most available?\n",
    "dataset['Type'].value_counts()"
   ]
  },
  {
   "cell_type": "code",
   "execution_count": 4,
   "metadata": {},
   "outputs": [
    {
     "data": {
      "text/plain": [
       "0    4.15\n",
       "dtype: float64"
      ]
     },
     "execution_count": 4,
     "metadata": {},
     "output_type": "execute_result"
    }
   ],
   "source": [
    "# Which is most commonly available Rating?\n",
    "dataset['Rating'].mode()"
   ]
  },
  {
   "cell_type": "code",
   "execution_count": 10,
   "metadata": {},
   "outputs": [
    {
     "data": {
      "text/html": [
       "<div>\n",
       "<style scoped>\n",
       "    .dataframe tbody tr th:only-of-type {\n",
       "        vertical-align: middle;\n",
       "    }\n",
       "\n",
       "    .dataframe tbody tr th {\n",
       "        vertical-align: top;\n",
       "    }\n",
       "\n",
       "    .dataframe thead th {\n",
       "        text-align: right;\n",
       "    }\n",
       "</style>\n",
       "<table border=\"1\" class=\"dataframe\">\n",
       "  <thead>\n",
       "    <tr style=\"text-align: right;\">\n",
       "      <th></th>\n",
       "      <th>Rating</th>\n",
       "      <th>Reviews</th>\n",
       "      <th>Book_title</th>\n",
       "      <th>Description</th>\n",
       "      <th>Number_Of_Pages</th>\n",
       "      <th>Type</th>\n",
       "      <th>Price</th>\n",
       "    </tr>\n",
       "  </thead>\n",
       "  <tbody>\n",
       "    <tr>\n",
       "      <th>131</th>\n",
       "      <td>4.72</td>\n",
       "      <td>362</td>\n",
       "      <td>Designing Data-Intensive Applications: The Big...</td>\n",
       "      <td>Want to know how the best software engineers a...</td>\n",
       "      <td>616</td>\n",
       "      <td>Paperback</td>\n",
       "      <td>45.561765</td>\n",
       "    </tr>\n",
       "    <tr>\n",
       "      <th>194</th>\n",
       "      <td>4.67</td>\n",
       "      <td>78</td>\n",
       "      <td>Fluent Python: Clear, Concise, and Effective P...</td>\n",
       "      <td>Python's simplicity lets you become productive...</td>\n",
       "      <td>792</td>\n",
       "      <td>Paperback</td>\n",
       "      <td>64.091176</td>\n",
       "    </tr>\n",
       "    <tr>\n",
       "      <th>114</th>\n",
       "      <td>4.67</td>\n",
       "      <td>1</td>\n",
       "      <td>Build Web Applications with Java: Learn every ...</td>\n",
       "      <td>This book is primarily intended for beginners ...</td>\n",
       "      <td>372</td>\n",
       "      <td>Paperback</td>\n",
       "      <td>42.276471</td>\n",
       "    </tr>\n",
       "    <tr>\n",
       "      <th>9</th>\n",
       "      <td>4.62</td>\n",
       "      <td>0</td>\n",
       "      <td>ZX Spectrum Games Code Club: Twenty fun games ...</td>\n",
       "      <td>This book is ideal for ZX Spectrum fans and be...</td>\n",
       "      <td>128</td>\n",
       "      <td>Paperback</td>\n",
       "      <td>14.641176</td>\n",
       "    </tr>\n",
       "    <tr>\n",
       "      <th>198</th>\n",
       "      <td>4.58</td>\n",
       "      <td>58</td>\n",
       "      <td>CLR via C# (Developer Reference)</td>\n",
       "      <td>Dig deep and master the intricacies of the com...</td>\n",
       "      <td>863</td>\n",
       "      <td>Paperback</td>\n",
       "      <td>66.320588</td>\n",
       "    </tr>\n",
       "    <tr>\n",
       "      <th>...</th>\n",
       "      <td>...</td>\n",
       "      <td>...</td>\n",
       "      <td>...</td>\n",
       "      <td>...</td>\n",
       "      <td>...</td>\n",
       "      <td>...</td>\n",
       "      <td>...</td>\n",
       "    </tr>\n",
       "    <tr>\n",
       "      <th>86</th>\n",
       "      <td>3.22</td>\n",
       "      <td>2</td>\n",
       "      <td>Beginning Java 2</td>\n",
       "      <td>What is this book about? The Java language has...</td>\n",
       "      <td>1200</td>\n",
       "      <td>Paperback</td>\n",
       "      <td>36.617647</td>\n",
       "    </tr>\n",
       "    <tr>\n",
       "      <th>24</th>\n",
       "      <td>3.20</td>\n",
       "      <td>0</td>\n",
       "      <td>Game Programming Golden Rules</td>\n",
       "      <td>'Game Programming Golden Rules' provides indis...</td>\n",
       "      <td>318</td>\n",
       "      <td>Paperback</td>\n",
       "      <td>19.152941</td>\n",
       "    </tr>\n",
       "    <tr>\n",
       "      <th>187</th>\n",
       "      <td>3.00</td>\n",
       "      <td>0</td>\n",
       "      <td>Lambda-Calculus, Combinators and Functional Pr...</td>\n",
       "      <td>Originally published in 1988, this book presen...</td>\n",
       "      <td>192</td>\n",
       "      <td>Paperback</td>\n",
       "      <td>61.167647</td>\n",
       "    </tr>\n",
       "    <tr>\n",
       "      <th>177</th>\n",
       "      <td>3.00</td>\n",
       "      <td>0</td>\n",
       "      <td>Advanced Game Programming: A Gamedev.Net Colle...</td>\n",
       "      <td>Welcome to \"Advanced Game Programming: A GameD...</td>\n",
       "      <td>464</td>\n",
       "      <td>Paperback</td>\n",
       "      <td>59.082353</td>\n",
       "    </tr>\n",
       "    <tr>\n",
       "      <th>182</th>\n",
       "      <td>3.00</td>\n",
       "      <td>0</td>\n",
       "      <td>Cross-Platform Game Programming (Game Developm...</td>\n",
       "      <td>With many of today's games being released simu...</td>\n",
       "      <td>460</td>\n",
       "      <td>Paperback</td>\n",
       "      <td>60.391176</td>\n",
       "    </tr>\n",
       "  </tbody>\n",
       "</table>\n",
       "<p>156 rows × 7 columns</p>\n",
       "</div>"
      ],
      "text/plain": [
       "     Rating Reviews                                         Book_title  \\\n",
       "131    4.72     362  Designing Data-Intensive Applications: The Big...   \n",
       "194    4.67      78  Fluent Python: Clear, Concise, and Effective P...   \n",
       "114    4.67       1  Build Web Applications with Java: Learn every ...   \n",
       "9      4.62       0  ZX Spectrum Games Code Club: Twenty fun games ...   \n",
       "198    4.58      58                   CLR via C# (Developer Reference)   \n",
       "..      ...     ...                                                ...   \n",
       "86     3.22       2                                   Beginning Java 2   \n",
       "24     3.20       0                      Game Programming Golden Rules   \n",
       "187    3.00       0  Lambda-Calculus, Combinators and Functional Pr...   \n",
       "177    3.00       0  Advanced Game Programming: A Gamedev.Net Colle...   \n",
       "182    3.00       0  Cross-Platform Game Programming (Game Developm...   \n",
       "\n",
       "                                           Description  Number_Of_Pages  \\\n",
       "131  Want to know how the best software engineers a...              616   \n",
       "194  Python's simplicity lets you become productive...              792   \n",
       "114  This book is primarily intended for beginners ...              372   \n",
       "9    This book is ideal for ZX Spectrum fans and be...              128   \n",
       "198  Dig deep and master the intricacies of the com...              863   \n",
       "..                                                 ...              ...   \n",
       "86   What is this book about? The Java language has...             1200   \n",
       "24   'Game Programming Golden Rules' provides indis...              318   \n",
       "187  Originally published in 1988, this book presen...              192   \n",
       "177  Welcome to \"Advanced Game Programming: A GameD...              464   \n",
       "182  With many of today's games being released simu...              460   \n",
       "\n",
       "          Type      Price  \n",
       "131  Paperback  45.561765  \n",
       "194  Paperback  64.091176  \n",
       "114  Paperback  42.276471  \n",
       "9    Paperback  14.641176  \n",
       "198  Paperback  66.320588  \n",
       "..         ...        ...  \n",
       "86   Paperback  36.617647  \n",
       "24   Paperback  19.152941  \n",
       "187  Paperback  61.167647  \n",
       "177  Paperback  59.082353  \n",
       "182  Paperback  60.391176  \n",
       "\n",
       "[156 rows x 7 columns]"
      ]
     },
     "execution_count": 10,
     "metadata": {},
     "output_type": "execute_result"
    }
   ],
   "source": [
    "# Which book of Paperback type has the highest Rating?\n",
    "df_paperback = dataset[dataset['Type'] == 'Paperback']\n",
    "df_paperback.sort_values(by=['Rating'], ascending=False)"
   ]
  },
  {
   "cell_type": "code",
   "execution_count": 32,
   "metadata": {},
   "outputs": [
    {
     "data": {
      "text/html": [
       "<div>\n",
       "<style scoped>\n",
       "    .dataframe tbody tr th:only-of-type {\n",
       "        vertical-align: middle;\n",
       "    }\n",
       "\n",
       "    .dataframe tbody tr th {\n",
       "        vertical-align: top;\n",
       "    }\n",
       "\n",
       "    .dataframe thead th {\n",
       "        text-align: right;\n",
       "    }\n",
       "</style>\n",
       "<table border=\"1\" class=\"dataframe\">\n",
       "  <thead>\n",
       "    <tr style=\"text-align: right;\">\n",
       "      <th></th>\n",
       "      <th>Rating</th>\n",
       "      <th>Reviews</th>\n",
       "      <th>Book_title</th>\n",
       "      <th>Description</th>\n",
       "      <th>Number_Of_Pages</th>\n",
       "      <th>Type</th>\n",
       "      <th>Price</th>\n",
       "    </tr>\n",
       "  </thead>\n",
       "  <tbody>\n",
       "    <tr>\n",
       "      <th>268</th>\n",
       "      <td>4.49</td>\n",
       "      <td>36</td>\n",
       "      <td>The Art of Computer Programming, Volumes 1-3 B...</td>\n",
       "      <td>Knuth's classic work has been widely acclaimed...</td>\n",
       "      <td>896</td>\n",
       "      <td>Boxed Set - Hardcover</td>\n",
       "      <td>220.385294</td>\n",
       "    </tr>\n",
       "  </tbody>\n",
       "</table>\n",
       "</div>"
      ],
      "text/plain": [
       "     Rating Reviews                                         Book_title  \\\n",
       "268    4.49      36  The Art of Computer Programming, Volumes 1-3 B...   \n",
       "\n",
       "                                           Description  Number_Of_Pages  \\\n",
       "268  Knuth's classic work has been widely acclaimed...              896   \n",
       "\n",
       "                      Type       Price  \n",
       "268  Boxed Set - Hardcover  220.385294  "
      ]
     },
     "execution_count": 32,
     "metadata": {},
     "output_type": "execute_result"
    }
   ],
   "source": [
    "# Which type of book has no book of price more than 150?\n",
    "\n",
    "dataset['Type'].unique()\n",
    "\n",
    "df_paperback = dataset[dataset['Type'] == 'Paperback']\n",
    "df_hardcover = dataset[dataset['Type'] == 'Hardcover']\n",
    "df_kindle = dataset[dataset['Type'] == 'Kindle Edition']\n",
    "df_ebook = dataset[dataset['Type'] == 'ebook']\n",
    "df_binding = dataset[dataset['Type'] == 'Unknown Binding']\n",
    "df_boxedset = dataset[dataset['Type'] == 'Boxed Set - Hardcover']\n",
    "\n",
    "# df_paperback[df_paperback.Price > 150]\n",
    "# df_hardcover[df_hardcover.Price > 150]\n",
    "# df_kindle[df_kindle.Price > 150]\n",
    "# df_ebook[df_ebook.Price > 150]\n",
    "# df_binding[df_binding.Price > 150]\n",
    "# df_boxedset[df_boxedset.Price > 150]"
   ]
  },
  {
   "cell_type": "code",
   "execution_count": 16,
   "metadata": {},
   "outputs": [
    {
     "data": {
      "image/png": "[encoded data removed]",
      "text/plain": [
       "<Figure size 432x288 with 1 Axes>"
      ]
     },
     "metadata": {
      "needs_background": "light"
     },
     "output_type": "display_data"
    }
   ],
   "source": [
    "# Which one looks similar to the distribution of Price?\n",
    "\n",
    "sns.distplot(dataset['Price']);"
   ]
  },
  {
   "cell_type": "code",
   "execution_count": 17,
   "metadata": {},
   "outputs": [
    {
     "data": {
      "image/png": "[encoded data removed]",
      "text/plain": [
       "<Figure size 432x288 with 1 Axes>"
      ]
     },
     "metadata": {
      "needs_background": "light"
     },
     "output_type": "display_data"
    }
   ],
   "source": [
    "# Which of the following will be the countplot for Type?\n",
    "\n",
    "sns.countplot(dataset['Type']);"
   ]
  },
  {
   "cell_type": "code",
   "execution_count": 18,
   "metadata": {},
   "outputs": [
    {
     "data": {
      "image/png": "[encoded data removed]",
      "text/plain": [
       "<Figure size 432x288 with 1 Axes>"
      ]
     },
     "metadata": {
      "needs_background": "light"
     },
     "output_type": "display_data"
    }
   ],
   "source": [
    "# How will the boxplot visualization for Rating vs Type look like?\n",
    "\n",
    "sns.boxplot(x='Rating', y='Type', data=dataset);"
   ]
  },
  {
   "cell_type": "code",
   "execution_count": 19,
   "metadata": {},
   "outputs": [
    {
     "data": {
      "image/png": "[encoded data removed]",
      "text/plain": [
       "<Figure size 432x288 with 1 Axes>"
      ]
     },
     "metadata": {
      "needs_background": "light"
     },
     "output_type": "display_data"
    }
   ],
   "source": [
    "# Which of these will be stripplot of Rating and Type?\n",
    "\n",
    "sns.stripplot(x='Type', y='Rating', data=dataset);"
   ]
  },
  {
   "cell_type": "code",
   "execution_count": 20,
   "metadata": {},
   "outputs": [
    {
     "data": {
      "image/png": "[encoded data removed]",
      "text/plain": [
       "<Figure size 432x432 with 3 Axes>"
      ]
     },
     "metadata": {
      "needs_background": "light"
     },
     "output_type": "display_data"
    }
   ],
   "source": [
    "# Which of these will be KDE jointplot of Rating and price?\n",
    "\n",
    "sns.jointplot(dataset['Price'], dataset['Rating'], kind='kde');"
   ]
  },
  {
   "cell_type": "code",
   "execution_count": 21,
   "metadata": {},
   "outputs": [
    {
     "data": {
      "image/png": "[encoded data removed]",
      "text/plain": [
       "<Figure size 432x432 with 3 Axes>"
      ]
     },
     "metadata": {
      "needs_background": "light"
     },
     "output_type": "display_data"
    }
   ],
   "source": [
    "sns.jointplot(dataset['Price'], dataset['Number_Of_Pages']);"
   ]
  },
  {
   "cell_type": "code",
   "execution_count": null,
   "metadata": {},
   "outputs": [],
   "source": []
  }
 ],
 "metadata": {
  "kernelspec": {
   "display_name": "Python 3",
   "language": "python",
   "name": "python3"
  },
  "language_info": {
   "codemirror_mode": {
    "name": "ipython",
    "version": 3
   },
   "file_extension": ".py",
   "mimetype": "text/x-python",
   "name": "python",
   "nbconvert_exporter": "python",
   "pygments_lexer": "ipython3",
   "version": "3.7.4"
  }
 },
 "nbformat": 4,
 "nbformat_minor": 4
}
