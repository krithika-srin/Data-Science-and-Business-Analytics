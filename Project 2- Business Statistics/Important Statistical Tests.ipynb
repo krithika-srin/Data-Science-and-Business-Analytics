{
 "cells": [
  {
   "cell_type": "markdown",
   "metadata": {},
   "source": [
    "Choice of test depends on test statistic and data availability"
   ]
  },
  {
   "cell_type": "markdown",
   "metadata": {},
   "source": [
    "What are you testing for? <br>\n",
    "Mean <br>\n",
    "Proportions <br>\n",
    "Variances <br>\n",
    "Frequencies "
   ]
  },
  {
   "cell_type": "code",
   "execution_count": 4,
   "metadata": {},
   "outputs": [
    {
     "name": "stderr",
     "output_type": "stream",
     "text": [
      "In C:\\Users\\KXS26XY\\AppData\\Local\\Continuum\\anaconda3\\lib\\site-packages\\matplotlib\\mpl-data\\stylelib\\_classic_test.mplstyle: \n",
      "The text.latex.preview rcparam was deprecated in Matplotlib 3.3 and will be removed two minor releases later.\n",
      "In C:\\Users\\KXS26XY\\AppData\\Local\\Continuum\\anaconda3\\lib\\site-packages\\matplotlib\\mpl-data\\stylelib\\_classic_test.mplstyle: \n",
      "The mathtext.fallback_to_cm rcparam was deprecated in Matplotlib 3.3 and will be removed two minor releases later.\n",
      "In C:\\Users\\KXS26XY\\AppData\\Local\\Continuum\\anaconda3\\lib\\site-packages\\matplotlib\\mpl-data\\stylelib\\_classic_test.mplstyle: Support for setting the 'mathtext.fallback_to_cm' rcParam is deprecated since 3.3 and will be removed two minor releases later; use 'mathtext.fallback : 'cm' instead.\n",
      "In C:\\Users\\KXS26XY\\AppData\\Local\\Continuum\\anaconda3\\lib\\site-packages\\matplotlib\\mpl-data\\stylelib\\_classic_test.mplstyle: \n",
      "The validate_bool_maybe_none function was deprecated in Matplotlib 3.3 and will be removed two minor releases later.\n",
      "In C:\\Users\\KXS26XY\\AppData\\Local\\Continuum\\anaconda3\\lib\\site-packages\\matplotlib\\mpl-data\\stylelib\\_classic_test.mplstyle: \n",
      "The savefig.jpeg_quality rcparam was deprecated in Matplotlib 3.3 and will be removed two minor releases later.\n",
      "In C:\\Users\\KXS26XY\\AppData\\Local\\Continuum\\anaconda3\\lib\\site-packages\\matplotlib\\mpl-data\\stylelib\\_classic_test.mplstyle: \n",
      "The keymap.all_axes rcparam was deprecated in Matplotlib 3.3 and will be removed two minor releases later.\n",
      "In C:\\Users\\KXS26XY\\AppData\\Local\\Continuum\\anaconda3\\lib\\site-packages\\matplotlib\\mpl-data\\stylelib\\_classic_test.mplstyle: \n",
      "The animation.avconv_path rcparam was deprecated in Matplotlib 3.3 and will be removed two minor releases later.\n",
      "In C:\\Users\\KXS26XY\\AppData\\Local\\Continuum\\anaconda3\\lib\\site-packages\\matplotlib\\mpl-data\\stylelib\\_classic_test.mplstyle: \n",
      "The animation.avconv_args rcparam was deprecated in Matplotlib 3.3 and will be removed two minor releases later.\n"
     ]
    }
   ],
   "source": [
    "import pandas as pd\n",
    "import numpy as np\n",
    "import seaborn as sns\n",
    "import matplotlib.pyplot as plt\n",
    "import scipy.stats"
   ]
  },
  {
   "cell_type": "code",
   "execution_count": 1,
   "metadata": {
    "scrolled": true
   },
   "outputs": [
    {
     "name": "stdout",
     "output_type": "stream",
     "text": [
      "Requirement already satisfied: scipy==1.6.1 in c:\\users\\kxs26xy\\appdata\\local\\continuum\\anaconda3\\lib\\site-packages (1.6.1)\n",
      "Requirement already satisfied: numpy>=1.16.5 in c:\\users\\kxs26xy\\appdata\\local\\continuum\\anaconda3\\lib\\site-packages (from scipy==1.6.1) (1.19.4)\n"
     ]
    }
   ],
   "source": [
    "!pip install scipy==1.6.1"
   ]
  },
  {
   "cell_type": "code",
   "execution_count": 2,
   "metadata": {},
   "outputs": [
    {
     "data": {
      "text/plain": [
       "'1.6.1'"
      ]
     },
     "execution_count": 2,
     "metadata": {},
     "output_type": "execute_result"
    }
   ],
   "source": [
    "import scipy\n",
    "scipy.__version__"
   ]
  },
  {
   "cell_type": "markdown",
   "metadata": {},
   "source": [
    "Test for one mean- One sample situation- unknown std dev <br>\n",
    "So cannot use the Z test <br>\n",
    "Sample size < 30 <br>\n",
    "We can use the T-test for this problem <br>\n",
    "Null hypothesis: mu = 40 <br>\n",
    "Alternate hypothesis: mu > 40"
   ]
  },
  {
   "cell_type": "code",
   "execution_count": 5,
   "metadata": {},
   "outputs": [
    {
     "data": {
      "text/html": [
       "<div>\n",
       "<style scoped>\n",
       "    .dataframe tbody tr th:only-of-type {\n",
       "        vertical-align: middle;\n",
       "    }\n",
       "\n",
       "    .dataframe tbody tr th {\n",
       "        vertical-align: top;\n",
       "    }\n",
       "\n",
       "    .dataframe thead th {\n",
       "        text-align: right;\n",
       "    }\n",
       "</style>\n",
       "<table border=\"1\" class=\"dataframe\">\n",
       "  <thead>\n",
       "    <tr style=\"text-align: right;\">\n",
       "      <th></th>\n",
       "      <th>Delivery</th>\n",
       "      <th>Time</th>\n",
       "    </tr>\n",
       "  </thead>\n",
       "  <tbody>\n",
       "    <tr>\n",
       "      <th>0</th>\n",
       "      <td>1</td>\n",
       "      <td>39.4</td>\n",
       "    </tr>\n",
       "    <tr>\n",
       "      <th>1</th>\n",
       "      <td>2</td>\n",
       "      <td>39.5</td>\n",
       "    </tr>\n",
       "    <tr>\n",
       "      <th>2</th>\n",
       "      <td>3</td>\n",
       "      <td>39.7</td>\n",
       "    </tr>\n",
       "    <tr>\n",
       "      <th>3</th>\n",
       "      <td>4</td>\n",
       "      <td>40.7</td>\n",
       "    </tr>\n",
       "    <tr>\n",
       "      <th>4</th>\n",
       "      <td>5</td>\n",
       "      <td>40.4</td>\n",
       "    </tr>\n",
       "  </tbody>\n",
       "</table>\n",
       "</div>"
      ],
      "text/plain": [
       "   Delivery  Time\n",
       "0         1  39.4\n",
       "1         2  39.5\n",
       "2         3  39.7\n",
       "3         4  40.7\n",
       "4         5  40.4"
      ]
     },
     "execution_count": 5,
     "metadata": {},
     "output_type": "execute_result"
    }
   ],
   "source": [
    "fastfood = pd.read_csv(\"C:\\\\Users\\\\KXS26XY\\\\OneDrive - The Home Depot\\\\Desktop\\\\Data Science and Business Analytics\\\\FastFood1.csv\")\n",
    "fastfood.head()"
   ]
  },
  {
   "cell_type": "code",
   "execution_count": 6,
   "metadata": {},
   "outputs": [
    {
     "name": "stdout",
     "output_type": "stream",
     "text": [
      "5.133552640824082 1.4822680927543513e-05\n"
     ]
    }
   ],
   "source": [
    "from scipy.stats import ttest_1samp\n",
    "\n",
    "# calculate the test statistic and p-value\n",
    "test_stat, p_val = ttest_1samp(fastfood['Time'], popmean = 40, alternative = \"greater\")\n",
    "print(test_stat, p_val)"
   ]
  },
  {
   "cell_type": "code",
   "execution_count": 7,
   "metadata": {},
   "outputs": [
    {
     "data": {
      "text/plain": [
       "Ttest_1sampResult(statistic=-6.398908019819394, pvalue=7.843455779613616e-05)"
      ]
     },
     "execution_count": 7,
     "metadata": {},
     "output_type": "execute_result"
    }
   ],
   "source": [
    "import numpy as np\n",
    "import scipy.stats as stats\n",
    "daily_intake = np.array([5260,5070,3640,1180,1390,6515,6805,2015,4515,1230,1770])\n",
    "stats.ttest_1samp(daily_intake, popmean= 7752)"
   ]
  },
  {
   "cell_type": "markdown",
   "metadata": {},
   "source": [
    "Test for equality of means- two independent populations- known std dev <br>\n",
    "We can use the Z test <br>\n",
    "Normality condition- sample size > 30 which is satisfied"
   ]
  },
  {
   "cell_type": "code",
   "execution_count": 8,
   "metadata": {},
   "outputs": [
    {
     "data": {
      "text/html": [
       "<div>\n",
       "<style scoped>\n",
       "    .dataframe tbody tr th:only-of-type {\n",
       "        vertical-align: middle;\n",
       "    }\n",
       "\n",
       "    .dataframe tbody tr th {\n",
       "        vertical-align: top;\n",
       "    }\n",
       "\n",
       "    .dataframe thead th {\n",
       "        text-align: right;\n",
       "    }\n",
       "</style>\n",
       "<table border=\"1\" class=\"dataframe\">\n",
       "  <thead>\n",
       "    <tr style=\"text-align: right;\">\n",
       "      <th></th>\n",
       "      <th>channel1_rating</th>\n",
       "      <th>channel2_rating</th>\n",
       "    </tr>\n",
       "  </thead>\n",
       "  <tbody>\n",
       "    <tr>\n",
       "      <th>0</th>\n",
       "      <td>3.5</td>\n",
       "      <td>3.3</td>\n",
       "    </tr>\n",
       "    <tr>\n",
       "      <th>1</th>\n",
       "      <td>3.7</td>\n",
       "      <td>3.3</td>\n",
       "    </tr>\n",
       "    <tr>\n",
       "      <th>2</th>\n",
       "      <td>3.0</td>\n",
       "      <td>2.9</td>\n",
       "    </tr>\n",
       "    <tr>\n",
       "      <th>3</th>\n",
       "      <td>3.8</td>\n",
       "      <td>3.7</td>\n",
       "    </tr>\n",
       "    <tr>\n",
       "      <th>4</th>\n",
       "      <td>3.3</td>\n",
       "      <td>4.0</td>\n",
       "    </tr>\n",
       "  </tbody>\n",
       "</table>\n",
       "</div>"
      ],
      "text/plain": [
       "   channel1_rating  channel2_rating\n",
       "0              3.5              3.3\n",
       "1              3.7              3.3\n",
       "2              3.0              2.9\n",
       "3              3.8              3.7\n",
       "4              3.3              4.0"
      ]
     },
     "execution_count": 8,
     "metadata": {},
     "output_type": "execute_result"
    }
   ],
   "source": [
    "rating = pd.read_csv(\"C:\\\\Users\\\\KXS26XY\\\\OneDrive - The Home Depot\\\\Desktop\\\\Data Science and Business Analytics\\\\rating.csv\")\n",
    "rating.head(5)"
   ]
  },
  {
   "cell_type": "code",
   "execution_count": 9,
   "metadata": {},
   "outputs": [
    {
     "name": "stdout",
     "output_type": "stream",
     "text": [
      "mean of channel1_rating 3.522666666666665\n",
      "mean of channel2_rating 3.2470000000000008\n"
     ]
    }
   ],
   "source": [
    "print(\"mean of channel1_rating\", rating['channel1_rating'].mean())\n",
    "print(\"mean of channel2_rating\", rating['channel2_rating'].mean())"
   ]
  },
  {
   "cell_type": "code",
   "execution_count": 11,
   "metadata": {},
   "outputs": [],
   "source": [
    "# Creating a user-defined fucntion for the Z test\n",
    "\n",
    "def ztest_2samp(X1, X2, pop_sd1, pop_sd2, n1, n2):\n",
    "    '''\n",
    "    X1: first of the two independent samples (sample 1)\n",
    "    X2: second of the two independent samples (sample 2)\n",
    "    pop_sd1: std dev of the first population\n",
    "    pop_sd2: std dev of the second population\n",
    "    n1: size of sample 1\n",
    "    n2: size of sample 2\n",
    "    '''\n",
    "    from numpy import sqrt, abs\n",
    "    from scipy.stats import norm\n",
    "    \n",
    "    # computing the std error\n",
    "    se = sqrt(pop_sd1**2/n1 + pop_sd2**2/n2)\n",
    "    # computing the test statistic\n",
    "    test_stat = ((X1.mean() - X2.mean()) - 0)/ se\n",
    "    pval = 1 - norm.cdf(abs(test_stat))\n",
    "    return pval"
   ]
  },
  {
   "cell_type": "code",
   "execution_count": 12,
   "metadata": {},
   "outputs": [
    {
     "name": "stdout",
     "output_type": "stream",
     "text": [
      "5.87973714161194e-09\n"
     ]
    }
   ],
   "source": [
    "p_value = ztest_2samp(rating['channel1_rating'].dropna(), rating['channel2_rating'].dropna(), 0.48, 0.49, 150, 300)\n",
    "print(p_value)\n",
    "# Reject the null hypothesis"
   ]
  },
  {
   "cell_type": "markdown",
   "metadata": {},
   "source": [
    "Test for equality of means- two populations- unknown std dev <br>\n",
    "sample sizes are small <br>\n",
    "In this example, the std devs of the two populations are assumed to be equal <br>\n",
    "Will use the T test"
   ]
  },
  {
   "cell_type": "code",
   "execution_count": 13,
   "metadata": {},
   "outputs": [
    {
     "data": {
      "text/html": [
       "<div>\n",
       "<style scoped>\n",
       "    .dataframe tbody tr th:only-of-type {\n",
       "        vertical-align: middle;\n",
       "    }\n",
       "\n",
       "    .dataframe tbody tr th {\n",
       "        vertical-align: top;\n",
       "    }\n",
       "\n",
       "    .dataframe thead th {\n",
       "        text-align: right;\n",
       "    }\n",
       "</style>\n",
       "<table border=\"1\" class=\"dataframe\">\n",
       "  <thead>\n",
       "    <tr style=\"text-align: right;\">\n",
       "      <th></th>\n",
       "      <th>Cable_TV</th>\n",
       "      <th>FM_Radio</th>\n",
       "    </tr>\n",
       "  </thead>\n",
       "  <tbody>\n",
       "    <tr>\n",
       "      <th>0</th>\n",
       "      <td>22</td>\n",
       "      <td>25</td>\n",
       "    </tr>\n",
       "    <tr>\n",
       "      <th>1</th>\n",
       "      <td>8</td>\n",
       "      <td>10</td>\n",
       "    </tr>\n",
       "    <tr>\n",
       "      <th>2</th>\n",
       "      <td>25</td>\n",
       "      <td>29</td>\n",
       "    </tr>\n",
       "    <tr>\n",
       "      <th>3</th>\n",
       "      <td>22</td>\n",
       "      <td>19</td>\n",
       "    </tr>\n",
       "    <tr>\n",
       "      <th>4</th>\n",
       "      <td>12</td>\n",
       "      <td>13</td>\n",
       "    </tr>\n",
       "  </tbody>\n",
       "</table>\n",
       "</div>"
      ],
      "text/plain": [
       "   Cable_TV  FM_Radio\n",
       "0        22        25\n",
       "1         8        10\n",
       "2        25        29\n",
       "3        22        19\n",
       "4        12        13"
      ]
     },
     "execution_count": 13,
     "metadata": {},
     "output_type": "execute_result"
    }
   ],
   "source": [
    "tvradio = pd.read_csv('C:\\\\Users\\\\KXS26XY\\\\OneDrive - The Home Depot\\\\Desktop\\\\Data Science and Business Analytics\\\\TVRadio.csv')\n",
    "tvradio.head(5)"
   ]
  },
  {
   "cell_type": "code",
   "execution_count": 14,
   "metadata": {},
   "outputs": [
    {
     "data": {
      "text/plain": [
       "0.5491435225558506"
      ]
     },
     "execution_count": 14,
     "metadata": {},
     "output_type": "execute_result"
    }
   ],
   "source": [
    "from scipy.stats import ttest_ind\n",
    "\n",
    "test_statistic, p_val = ttest_ind(tvradio['Cable_TV'], tvradio['FM_Radio'], equal_var = True, alternative = 'two-sided')\n",
    "p_val"
   ]
  },
  {
   "cell_type": "code",
   "execution_count": 15,
   "metadata": {},
   "outputs": [
    {
     "data": {
      "text/plain": [
       "Ttest_indResult(statistic=1.353100293687127, pvalue=0.19112194470967464)"
      ]
     },
     "execution_count": 15,
     "metadata": {},
     "output_type": "execute_result"
    }
   ],
   "source": [
    "import scipy.stats as stats\n",
    "import numpy as np\n",
    "# energy expenditure in mJ and stature (0=obese, 1=lean)\n",
    "energ = np.array([[9.21, 0],[7.53, 1],[7.48, 1],[8.08, 1],[8.09, 1],[10.15, 1],[8.40, 1],[0.88, 1],[1.13, 1],[2.90, 1],[11.51, 0],[2.79, 0],[7.05, 1],[1.85, 0],[19.97, 0],[7.48, 1],[8.79, 0],[9.69, 0],[2.68, 0],[3.58, 1],[9.19, 0],[4.11, 1]])\n",
    "# Separating the data into 2 groups\n",
    "group1 = energ[:, 1] == 0 # Extracting the elements of the array where obese == True\n",
    "group1 = energ[group1][:, 0] # Extracting the energy expenditure of obese\n",
    "group2 = energ[:, 1] == 1 # Extracting the elements of the array where lean == True\n",
    "group2 = energ[group2][:, 0] # Extracting the energy expenditure of lean\n",
    "stats.ttest_ind(group1, group2, equal_var = True) # Applying T-test to check if the energy expenditure of obese and lean is indeed different.\n"
   ]
  },
  {
   "cell_type": "code",
   "execution_count": 16,
   "metadata": {},
   "outputs": [
    {
     "data": {
      "text/plain": [
       "Ttest_indResult(statistic=-0.607694899652158, pvalue=0.5509860214402561)"
      ]
     },
     "execution_count": 16,
     "metadata": {},
     "output_type": "execute_result"
    }
   ],
   "source": [
    "import scipy.stats as stats\n",
    "import numpy as np\n",
    "\n",
    "# scores of two groups (0 and 1) of students\n",
    "energ = np.array([[49, 0],[53, 1],[56, 1],[43, 1],[45, 1],[53, 1],[45, 1],[56, 1],[51, 0],[43, 0],[47, 1],[44, 0],[51, 0],[53, 1],[50, 0],[54, 0],[51, 0],[51, 1],[46, 0],[47, 1]])\n",
    "\n",
    "# Separating the data into 2 groups\n",
    "\n",
    "group1 = energ[:, 1] == 0 # Extracting the elements of the array where group == 0\n",
    "group1 = energ[group1][:, 0] # Extracting the scores of group 0 students\n",
    "group2 = energ[:, 1] == 1 # Extracting the elements of the array where group == 1\n",
    "group2 = energ[group2][:, 0] # Extracting the scores of group 1 students\n",
    "\n",
    "#applying t-test to check if the scores of group 0 and group 1 students are indeed different\n",
    "stats.ttest_ind(group1, group2, equal_var = False)"
   ]
  },
  {
   "cell_type": "code",
   "execution_count": 33,
   "metadata": {},
   "outputs": [
    {
     "ename": "TypeError",
     "evalue": "ttest_rel() got an unexpected keyword argument 'alternative'",
     "output_type": "error",
     "traceback": [
      "\u001b[1;31m---------------------------------------------------------------------------\u001b[0m",
      "\u001b[1;31mTypeError\u001b[0m                                 Traceback (most recent call last)",
      "\u001b[1;32m<ipython-input-33-a3982696b624>\u001b[0m in \u001b[0;36m<module>\u001b[1;34m\u001b[0m\n\u001b[0;32m      7\u001b[0m \u001b[0mpost\u001b[0m \u001b[1;33m=\u001b[0m \u001b[0mintake\u001b[0m\u001b[1;33m[\u001b[0m\u001b[1;33m:\u001b[0m\u001b[1;33m,\u001b[0m \u001b[1;36m0\u001b[0m\u001b[1;33m]\u001b[0m \u001b[1;31m# Extracting the post intake values from array\u001b[0m\u001b[1;33m\u001b[0m\u001b[1;33m\u001b[0m\u001b[0m\n\u001b[0;32m      8\u001b[0m \u001b[1;33m\u001b[0m\u001b[0m\n\u001b[1;32m----> 9\u001b[1;33m \u001b[0mstats\u001b[0m\u001b[1;33m.\u001b[0m\u001b[0mttest_rel\u001b[0m\u001b[1;33m(\u001b[0m\u001b[0mpost\u001b[0m\u001b[1;33m,\u001b[0m \u001b[0mpre\u001b[0m\u001b[1;33m,\u001b[0m \u001b[0malternative\u001b[0m \u001b[1;33m=\u001b[0m \u001b[1;34m'greater'\u001b[0m\u001b[1;33m)\u001b[0m \u001b[1;31m# Applying T-test to check if the post intake is greater than pre intake\u001b[0m\u001b[1;33m\u001b[0m\u001b[1;33m\u001b[0m\u001b[0m\n\u001b[0m",
      "\u001b[1;31mTypeError\u001b[0m: ttest_rel() got an unexpected keyword argument 'alternative'"
     ]
    }
   ],
   "source": [
    "import scipy.stats as stats\n",
    "import numpy as np\n",
    "intake = np.array([[5260, 2400],[7500, 5500],[5640, 3885],[6180, 3160],[6390, 5645],[6515, 8680],[6805, 9265],[7515, 5975],[7515, 2790],[8230, 1900],[8770, 1335]])\n",
    "# Separating data into 2 groups\n",
    "\n",
    "pre = intake[:, 1] # Extracting the pre intake values from array\n",
    "post = intake[:, 0] # Extracting the post intake values from array\n",
    "\n",
    "stats.ttest_rel(post, pre, alternative = 'greater') # Applying T-test to check if the post intake is greater than pre intake"
   ]
  },
  {
   "cell_type": "code",
   "execution_count": null,
   "metadata": {},
   "outputs": [],
   "source": []
  }
 ],
 "metadata": {
  "kernelspec": {
   "display_name": "Python 3",
   "language": "python",
   "name": "python3"
  },
  "language_info": {
   "codemirror_mode": {
    "name": "ipython",
    "version": 3
   },
   "file_extension": ".py",
   "mimetype": "text/x-python",
   "name": "python",
   "nbconvert_exporter": "python",
   "pygments_lexer": "ipython3",
   "version": "3.7.4"
  }
 },
 "nbformat": 4,
 "nbformat_minor": 4
}
