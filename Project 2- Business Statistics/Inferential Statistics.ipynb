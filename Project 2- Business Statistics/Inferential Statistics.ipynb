{
 "cells": [
  {
   "cell_type": "markdown",
   "metadata": {},
   "source": [
    "# Inferential Statistics"
   ]
  },
  {
   "cell_type": "markdown",
   "metadata": {},
   "source": [
    "Binomial Distribution Example"
   ]
  },
  {
   "cell_type": "markdown",
   "metadata": {},
   "source": [
    "Question <br>\n",
    "80% of all visitors to Lavista Museum end up buying souvenirs from the gift shop. On the coming Sunday, if a random sample of 10 visitors is picked:\n",
    "1. Find the probability that every visitor will end up buying from the gift shop\n",
    "2. Find the probability that a maximum of 7 visitors will buy souvenirs from the gift shop"
   ]
  },
  {
   "cell_type": "code",
   "execution_count": 1,
   "metadata": {},
   "outputs": [],
   "source": [
    "import pandas as pd\n",
    "import numpy as np\n",
    "import matplotlib.pyplot as plt\n",
    "import seaborn as sns\n",
    "import scipy.stats as stats"
   ]
  },
  {
   "cell_type": "code",
   "execution_count": 3,
   "metadata": {},
   "outputs": [
    {
     "name": "stdout",
     "output_type": "stream",
     "text": [
      "[ 0  1  2  3  4  5  6  7  8  9 10]\n"
     ]
    }
   ],
   "source": [
    "n = 10 \n",
    "p = 0.80\n",
    "k = np.arange(0,11)\n",
    "print(k)"
   ]
  },
  {
   "cell_type": "code",
   "execution_count": 4,
   "metadata": {},
   "outputs": [
    {
     "data": {
      "text/plain": [
       "array([1.02400000e-07, 4.09600000e-06, 7.37280000e-05, 7.86432000e-04,\n",
       "       5.50502400e-03, 2.64241152e-02, 8.80803840e-02, 2.01326592e-01,\n",
       "       3.01989888e-01, 2.68435456e-01, 1.07374182e-01])"
      ]
     },
     "execution_count": 4,
     "metadata": {},
     "output_type": "execute_result"
    }
   ],
   "source": [
    "from scipy.stats import binom\n",
    "\n",
    "binomial = binom.pmf(k=k, n=n, p=p)\n",
    "binomial"
   ]
  },
  {
   "cell_type": "code",
   "execution_count": 4,
   "metadata": {},
   "outputs": [
    {
     "data": {
      "image/png": "[encoded data removed]",
      "text/plain": [
       "<Figure size 432x288 with 1 Axes>"
      ]
     },
     "metadata": {
      "needs_background": "light"
     },
     "output_type": "display_data"
    }
   ],
   "source": [
    "plt.bar(k, binomial)\n",
    "plt.xlabel('No. of successes')\n",
    "plt.ylabel('Probability of successes')\n",
    "plt.show()"
   ]
  },
  {
   "cell_type": "code",
   "execution_count": 5,
   "metadata": {},
   "outputs": [
    {
     "data": {
      "text/plain": [
       "0.10737418240000005"
      ]
     },
     "execution_count": 5,
     "metadata": {},
     "output_type": "execute_result"
    }
   ],
   "source": [
    "# probability that all 10 customers buy\n",
    "binomial[10]"
   ]
  },
  {
   "cell_type": "code",
   "execution_count": 6,
   "metadata": {},
   "outputs": [
    {
     "data": {
      "text/plain": [
       "0.3222004736"
      ]
     },
     "execution_count": 6,
     "metadata": {},
     "output_type": "execute_result"
    }
   ],
   "source": [
    "# Cumulative Distribution Function\n",
    "binom.cdf(k=7, n=n, p=p)"
   ]
  },
  {
   "cell_type": "markdown",
   "metadata": {},
   "source": [
    "Discrete Uniform Distribution Example- Bookseller.csv"
   ]
  },
  {
   "cell_type": "markdown",
   "metadata": {},
   "source": [
    "Question <br>\n",
    "Number of books sold by a bookseller per day is given in 'Bookseller.csv' <br>\n",
    "X = number of books sold by a bookseller per day <br>\n",
    "1. Find the probability that more than (or equal to) 96 books will be sold on a given day <br>\n",
    "2. Find the probability that less than (or equal to) 92 books will be sold on a given day"
   ]
  },
  {
   "cell_type": "code",
   "execution_count": 9,
   "metadata": {},
   "outputs": [
    {
     "data": {
      "text/html": [
       "<div>\n",
       "<style scoped>\n",
       "    .dataframe tbody tr th:only-of-type {\n",
       "        vertical-align: middle;\n",
       "    }\n",
       "\n",
       "    .dataframe tbody tr th {\n",
       "        vertical-align: top;\n",
       "    }\n",
       "\n",
       "    .dataframe thead th {\n",
       "        text-align: right;\n",
       "    }\n",
       "</style>\n",
       "<table border=\"1\" class=\"dataframe\">\n",
       "  <thead>\n",
       "    <tr style=\"text-align: right;\">\n",
       "      <th></th>\n",
       "      <th>S.No</th>\n",
       "      <th>Date</th>\n",
       "      <th>Number of Books Sold</th>\n",
       "    </tr>\n",
       "  </thead>\n",
       "  <tbody>\n",
       "    <tr>\n",
       "      <th>0</th>\n",
       "      <td>1</td>\n",
       "      <td>01-01-2020</td>\n",
       "      <td>90</td>\n",
       "    </tr>\n",
       "    <tr>\n",
       "      <th>1</th>\n",
       "      <td>2</td>\n",
       "      <td>02-01-2020</td>\n",
       "      <td>100</td>\n",
       "    </tr>\n",
       "    <tr>\n",
       "      <th>2</th>\n",
       "      <td>3</td>\n",
       "      <td>03-01-2020</td>\n",
       "      <td>100</td>\n",
       "    </tr>\n",
       "    <tr>\n",
       "      <th>3</th>\n",
       "      <td>4</td>\n",
       "      <td>04-01-2020</td>\n",
       "      <td>97</td>\n",
       "    </tr>\n",
       "    <tr>\n",
       "      <th>4</th>\n",
       "      <td>5</td>\n",
       "      <td>05-01-2020</td>\n",
       "      <td>93</td>\n",
       "    </tr>\n",
       "  </tbody>\n",
       "</table>\n",
       "</div>"
      ],
      "text/plain": [
       "   S.No        Date  Number of Books Sold\n",
       "0     1  01-01-2020                    90\n",
       "1     2  02-01-2020                   100\n",
       "2     3  03-01-2020                   100\n",
       "3     4  04-01-2020                    97\n",
       "4     5  05-01-2020                    93"
      ]
     },
     "execution_count": 9,
     "metadata": {},
     "output_type": "execute_result"
    }
   ],
   "source": [
    "book_count = pd.read_csv('C:\\\\Users\\\\KXS26XY\\\\OneDrive - The Home Depot\\\\Desktop\\\\Data Science and Business Analytics\\\\bookseller.csv')\n",
    "book_count.head()"
   ]
  },
  {
   "cell_type": "code",
   "execution_count": 15,
   "metadata": {},
   "outputs": [
    {
     "data": {
      "image/png": "[encoded data removed]",
      "text/plain": [
       "<Figure size 432x288 with 1 Axes>"
      ]
     },
     "metadata": {
      "needs_background": "light"
     },
     "output_type": "display_data"
    }
   ],
   "source": [
    "plt.hist(book_count['Number of Books Sold'], 11, rwidth=0.9, density=True)\n",
    "plt.xlabel('Number of Books Sold')\n",
    "plt.axhline(1/11, color='red') --corresponds to the uniform distribution\n",
    "plt.ylabel('Density')\n",
    "plt.title('Data Distribution')\n",
    "plt.show()"
   ]
  },
  {
   "cell_type": "code",
   "execution_count": 17,
   "metadata": {},
   "outputs": [],
   "source": [
    "from scipy.stats import uniform\n",
    "\n",
    "k = np.arange(90,101)\n",
    "probs = uniform.pdf(k, loc=90, scale=11)"
   ]
  },
  {
   "cell_type": "code",
   "execution_count": 20,
   "metadata": {},
   "outputs": [
    {
     "data": {
      "image/png": "[encoded data removed]",
      "text/plain": [
       "<Figure size 432x288 with 1 Axes>"
      ]
     },
     "metadata": {
      "needs_background": "light"
     },
     "output_type": "display_data"
    }
   ],
   "source": [
    "bar = plt.bar(k, probs)\n",
    "plt.xlabel('Number of books sold')\n",
    "plt.ylabel('Probability')\n",
    "plt.title(\"Discrete Uniform Distribution: X ~ U(90,100)\")\n",
    "for i in range(6,11):\n",
    "    bar[i].set_color('r')\n",
    "plt.show()"
   ]
  },
  {
   "cell_type": "code",
   "execution_count": 22,
   "metadata": {},
   "outputs": [
    {
     "data": {
      "text/plain": [
       "0.4545454545454546"
      ]
     },
     "execution_count": 22,
     "metadata": {},
     "output_type": "execute_result"
    }
   ],
   "source": [
    "1 - uniform.cdf(96, loc=90, scale=11)"
   ]
  },
  {
   "cell_type": "code",
   "execution_count": 23,
   "metadata": {},
   "outputs": [
    {
     "data": {
      "text/plain": [
       "0.18181818181818182"
      ]
     },
     "execution_count": 23,
     "metadata": {},
     "output_type": "execute_result"
    }
   ],
   "source": [
    "uniform.cdf(92, loc=90, scale=11)"
   ]
  },
  {
   "cell_type": "markdown",
   "metadata": {},
   "source": [
    "Continuous Uniform Distribution Example- debugging.csv"
   ]
  },
  {
   "cell_type": "markdown",
   "metadata": {},
   "source": [
    "Question <br>\n",
    "Amount of time a software engineer needs to fix a bug <br>\n",
    "X = time needed to fix bugs <br>\n",
    "1. Find the probability that a randomly selected software debugging requires less than 3 hours <br>\n",
    "2. Find the probability that a randomly selected software debugging requires more than 2 hours <br>\n",
    "3. Find the 50th percentile of the software debugging time"
   ]
  },
  {
   "cell_type": "code",
   "execution_count": 24,
   "metadata": {},
   "outputs": [
    {
     "data": {
      "text/html": [
       "<div>\n",
       "<style scoped>\n",
       "    .dataframe tbody tr th:only-of-type {\n",
       "        vertical-align: middle;\n",
       "    }\n",
       "\n",
       "    .dataframe tbody tr th {\n",
       "        vertical-align: top;\n",
       "    }\n",
       "\n",
       "    .dataframe thead th {\n",
       "        text-align: right;\n",
       "    }\n",
       "</style>\n",
       "<table border=\"1\" class=\"dataframe\">\n",
       "  <thead>\n",
       "    <tr style=\"text-align: right;\">\n",
       "      <th></th>\n",
       "      <th>Bug ID</th>\n",
       "      <th>Time Taken to fix the bug</th>\n",
       "    </tr>\n",
       "  </thead>\n",
       "  <tbody>\n",
       "    <tr>\n",
       "      <th>0</th>\n",
       "      <td>12986</td>\n",
       "      <td>2.42</td>\n",
       "    </tr>\n",
       "    <tr>\n",
       "      <th>1</th>\n",
       "      <td>12987</td>\n",
       "      <td>2.03</td>\n",
       "    </tr>\n",
       "    <tr>\n",
       "      <th>2</th>\n",
       "      <td>12988</td>\n",
       "      <td>2.74</td>\n",
       "    </tr>\n",
       "    <tr>\n",
       "      <th>3</th>\n",
       "      <td>12989</td>\n",
       "      <td>3.21</td>\n",
       "    </tr>\n",
       "    <tr>\n",
       "      <th>4</th>\n",
       "      <td>12990</td>\n",
       "      <td>3.40</td>\n",
       "    </tr>\n",
       "  </tbody>\n",
       "</table>\n",
       "</div>"
      ],
      "text/plain": [
       "   Bug ID  Time Taken to fix the bug\n",
       "0   12986                       2.42\n",
       "1   12987                       2.03\n",
       "2   12988                       2.74\n",
       "3   12989                       3.21\n",
       "4   12990                       3.40"
      ]
     },
     "execution_count": 24,
     "metadata": {},
     "output_type": "execute_result"
    }
   ],
   "source": [
    "debugging = pd.read_csv('C:\\\\Users\\\\KXS26XY\\\\OneDrive - The Home Depot\\\\Desktop\\\\Data Science and Business Analytics\\\\debugging.csv')\n",
    "debugging.head()"
   ]
  },
  {
   "cell_type": "code",
   "execution_count": 31,
   "metadata": {},
   "outputs": [
    {
     "data": {
      "image/png": "[encoded data removed]",
      "text/plain": [
       "<Figure size 432x288 with 1 Axes>"
      ]
     },
     "metadata": {
      "needs_background": "light"
     },
     "output_type": "display_data"
    }
   ],
   "source": [
    "plt.hist(debugging['Time Taken to fix the bug'], 10, density=True)\n",
    "plt.show()"
   ]
  },
  {
   "cell_type": "code",
   "execution_count": 28,
   "metadata": {},
   "outputs": [],
   "source": [
    "k = np.arange(1,6)\n",
    "probs = uniform.cdf(k, loc=1, scale=5)"
   ]
  },
  {
   "cell_type": "code",
   "execution_count": 33,
   "metadata": {},
   "outputs": [
    {
     "data": {
      "text/plain": [
       "0.5"
      ]
     },
     "execution_count": 33,
     "metadata": {},
     "output_type": "execute_result"
    }
   ],
   "source": [
    "uniform.cdf(3, loc=1, scale=4)"
   ]
  },
  {
   "cell_type": "code",
   "execution_count": 34,
   "metadata": {},
   "outputs": [
    {
     "data": {
      "text/plain": [
       "0.75"
      ]
     },
     "execution_count": 34,
     "metadata": {},
     "output_type": "execute_result"
    }
   ],
   "source": [
    "1 - uniform.cdf(2, loc=1, scale=4) "
   ]
  },
  {
   "cell_type": "code",
   "execution_count": 35,
   "metadata": {},
   "outputs": [
    {
     "data": {
      "text/plain": [
       "3.0"
      ]
     },
     "execution_count": 35,
     "metadata": {},
     "output_type": "execute_result"
    }
   ],
   "source": [
    "uniform.ppf(q=0.5, loc=1, scale=4)"
   ]
  },
  {
   "cell_type": "markdown",
   "metadata": {},
   "source": [
    "Normal Distribution Example"
   ]
  },
  {
   "cell_type": "markdown",
   "metadata": {},
   "source": [
    "SAT scores of 1000 students <br>\n",
    "1. Calculate the probability that a student will score less than 800 in the SAT exam <br>\n",
    "2. Calculate the probability that a student will score more than 1300 in the SAT exam <br>\n",
    "3. Calculate the minimum marks a student must score in order to secure 90th percentile <br>\n",
    "4. Calculate the minimum marks a student must score to be in the top 5%"
   ]
  },
  {
   "cell_type": "code",
   "execution_count": 6,
   "metadata": {},
   "outputs": [
    {
     "data": {
      "text/html": [
       "<div>\n",
       "<style scoped>\n",
       "    .dataframe tbody tr th:only-of-type {\n",
       "        vertical-align: middle;\n",
       "    }\n",
       "\n",
       "    .dataframe tbody tr th {\n",
       "        vertical-align: top;\n",
       "    }\n",
       "\n",
       "    .dataframe thead th {\n",
       "        text-align: right;\n",
       "    }\n",
       "</style>\n",
       "<table border=\"1\" class=\"dataframe\">\n",
       "  <thead>\n",
       "    <tr style=\"text-align: right;\">\n",
       "      <th></th>\n",
       "      <th>student_id</th>\n",
       "      <th>score</th>\n",
       "    </tr>\n",
       "  </thead>\n",
       "  <tbody>\n",
       "    <tr>\n",
       "      <th>0</th>\n",
       "      <td>1</td>\n",
       "      <td>1018</td>\n",
       "    </tr>\n",
       "    <tr>\n",
       "      <th>1</th>\n",
       "      <td>2</td>\n",
       "      <td>1218</td>\n",
       "    </tr>\n",
       "    <tr>\n",
       "      <th>2</th>\n",
       "      <td>3</td>\n",
       "      <td>611</td>\n",
       "    </tr>\n",
       "    <tr>\n",
       "      <th>3</th>\n",
       "      <td>4</td>\n",
       "      <td>723</td>\n",
       "    </tr>\n",
       "    <tr>\n",
       "      <th>4</th>\n",
       "      <td>5</td>\n",
       "      <td>541</td>\n",
       "    </tr>\n",
       "  </tbody>\n",
       "</table>\n",
       "</div>"
      ],
      "text/plain": [
       "   student_id  score\n",
       "0           1   1018\n",
       "1           2   1218\n",
       "2           3    611\n",
       "3           4    723\n",
       "4           5    541"
      ]
     },
     "execution_count": 6,
     "metadata": {},
     "output_type": "execute_result"
    }
   ],
   "source": [
    "sat_score = pd.read_csv('C:\\\\Users\\\\KXS26XY\\\\OneDrive - The Home Depot\\\\Desktop\\\\Data Science and Business Analytics\\\\sat_score.csv')\n",
    "sat_score.head()"
   ]
  },
  {
   "cell_type": "code",
   "execution_count": 7,
   "metadata": {},
   "outputs": [
    {
     "name": "stdout",
     "output_type": "stream",
     "text": [
      "The estimated mean and standard deviation is 1007.46 204.42600713312467\n"
     ]
    }
   ],
   "source": [
    "from scipy.stats import norm\n",
    "\n",
    "mu = sat_score['score'].mean()\n",
    "sigma = sat_score['score'].std()\n",
    "\n",
    "print('The estimated mean and standard deviation is', mu, sigma)"
   ]
  },
  {
   "cell_type": "code",
   "execution_count": 12,
   "metadata": {},
   "outputs": [
    {
     "data": {
      "image/png": "[encoded data removed]",
      "text/plain": [
       "<Figure size 432x288 with 1 Axes>"
      ]
     },
     "metadata": {
      "needs_background": "light"
     },
     "output_type": "display_data"
    }
   ],
   "source": [
    "density = pd.DataFrame()\n",
    "# print(density)\n",
    "\n",
    "density['x'] = np.linspace(\n",
    "sat_score['score'].min() - 0.01, sat_score['score'].max() + 0.01, 100\n",
    ")\n",
    "\n",
    "density['pdf'] = norm.pdf(density['x'], mu, sigma)\n",
    "\n",
    "fig, ax = plt.subplots()\n",
    "\n",
    "sns.distplot(sat_score['score'], ax=ax, kde=True)\n",
    "ax.plot(density['x'], density['pdf'], color='red')\n",
    "plt.title('Normal Distribution')\n",
    "plt.show()"
   ]
  },
  {
   "cell_type": "code",
   "execution_count": 14,
   "metadata": {},
   "outputs": [
    {
     "name": "stdout",
     "output_type": "stream",
     "text": [
      "0.15509068891539868\n"
     ]
    }
   ],
   "source": [
    "# Calculate the probability that a student will score less than 800 in the SAT exam\n",
    "prob_less_than_800 = norm.cdf(800, mu, sigma)\n",
    "print(prob_less_than_800)"
   ]
  },
  {
   "cell_type": "code",
   "execution_count": 15,
   "metadata": {},
   "outputs": [
    {
     "name": "stdout",
     "output_type": "stream",
     "text": [
      "0.07621063272885586\n"
     ]
    }
   ],
   "source": [
    "# Calculate the probability that a student will score more than 1300 in the SAT exam\n",
    "prob_more_than_1300 = 1 - norm.cdf(1300, mu, sigma)\n",
    "print(prob_more_than_1300)"
   ]
  },
  {
   "cell_type": "code",
   "execution_count": 16,
   "metadata": {},
   "outputs": [
    {
     "name": "stdout",
     "output_type": "stream",
     "text": [
      "1269.4424694794875\n"
     ]
    }
   ],
   "source": [
    "# Calculate the minimum marks a student must score in order to secure 90th percentile\n",
    "score_90th_percentile = norm.ppf(0.90, mu, sigma)\n",
    "print(score_90th_percentile)"
   ]
  },
  {
   "cell_type": "code",
   "execution_count": 17,
   "metadata": {},
   "outputs": [
    {
     "name": "stdout",
     "output_type": "stream",
     "text": [
      "1343.7108592761276\n"
     ]
    }
   ],
   "source": [
    "# Calculate the minimum marks a student must score to be in the top 5%\n",
    "score_top_5_percent = norm.ppf(0.95, mu, sigma)\n",
    "print(score_top_5_percent)"
   ]
  },
  {
   "cell_type": "code",
   "execution_count": 18,
   "metadata": {},
   "outputs": [
    {
     "name": "stdout",
     "output_type": "stream",
     "text": [
      "0.10393774696096786\n"
     ]
    }
   ],
   "source": [
    "prob_less_than_750 = norm.cdf(750, mu, sigma)\n",
    "print(prob_less_than_750)"
   ]
  },
  {
   "cell_type": "markdown",
   "metadata": {},
   "source": [
    "Central Limit Theorem"
   ]
  },
  {
   "cell_type": "markdown",
   "metadata": {},
   "source": [
    "What the Central Limit Theorem looks like for a Uniform Distribution"
   ]
  },
  {
   "cell_type": "code",
   "execution_count": 23,
   "metadata": {},
   "outputs": [
    {
     "data": {
      "image/png": "[encoded data removed]",
      "text/plain": [
       "<Figure size 432x288 with 1 Axes>"
      ]
     },
     "metadata": {
      "needs_background": "light"
     },
     "output_type": "display_data"
    }
   ],
   "source": [
    "from scipy.stats import uniform\n",
    "# np.random.seed(1) --this is to simluate the same random population everytime\n",
    "np.random.seed(1)\n",
    "uniform_pop = uniform.rvs(0,10, size=100000)\n",
    "\n",
    "# visualizing the uniform distribution\n",
    "plt.hist(uniform_pop)\n",
    "plt.title('Uniform Distribution Population')\n",
    "plt.xlabel('X ~ U(0,10)')\n",
    "plt.ylabel('Count')\n",
    "plt.show()"
   ]
  },
  {
   "cell_type": "markdown",
   "metadata": {},
   "source": [
    "Sampling Distribution from this population (sample size = 5, number of samples = 500) <br>\n",
    "Draw a sample of size 5 <br>\n",
    "Get the mean of these 5 observations <br>\n",
    "Repeat this 500 times <br>"
   ]
  },
  {
   "cell_type": "code",
   "execution_count": 29,
   "metadata": {},
   "outputs": [
    {
     "data": {
      "image/png": "[encoded data removed]",
      "text/plain": [
       "<Figure size 432x288 with 1 Axes>"
      ]
     },
     "metadata": {
      "needs_background": "light"
     },
     "output_type": "display_data"
    }
   ],
   "source": [
    "np.random.seed(1)\n",
    "n = 5\n",
    "sample_means = []\n",
    "\n",
    "for j in range(500):\n",
    "#     selecting 5 observations randomly from the sample\n",
    "    sample = np.random.choice(uniform_pop, size=n)\n",
    "#     calculating the mean of those 5 observations\n",
    "    sample_mean = np.mean(sample)\n",
    "#     appending these means to the list sample_means\n",
    "    sample_means.append(sample_mean)\n",
    "\n",
    "sns.distplot(sample_means, kde=True)\n",
    "plt.title('Distribution of sample means for n=5')\n",
    "plt.xlabel('Sample Means')\n",
    "plt.ylabel('Count')\n",
    "plt.show()\n",
    "\n",
    "# Sampling distribution is not uniform, but the CLT is not in full force because of the small sample size"
   ]
  },
  {
   "cell_type": "code",
   "execution_count": 30,
   "metadata": {},
   "outputs": [
    {
     "data": {
      "image/png": "[encoded data removed]",
      "text/plain": [
       "<Figure size 432x288 with 1 Axes>"
      ]
     },
     "metadata": {
      "needs_background": "light"
     },
     "output_type": "display_data"
    }
   ],
   "source": [
    "# Repeating the experiment with sample size n = 15\n",
    "np.random.seed(1)\n",
    "n = 15\n",
    "sample_means = []\n",
    "\n",
    "for j in range(500):\n",
    "#     selecting 5 observations randomly from the sample\n",
    "    sample = np.random.choice(uniform_pop, size=n)\n",
    "#     calculating the mean of those 5 observations\n",
    "    sample_mean = np.mean(sample)\n",
    "#     appending these means to the list sample_means\n",
    "    sample_means.append(sample_mean)\n",
    "\n",
    "sns.distplot(sample_means, kde=True)\n",
    "plt.title('Distribution of sample means for n=15')\n",
    "plt.xlabel('Sample Means')\n",
    "plt.ylabel('Count')\n",
    "plt.show()\n"
   ]
  },
  {
   "cell_type": "code",
   "execution_count": 31,
   "metadata": {},
   "outputs": [
    {
     "data": {
      "image/png": "[encoded data removed]",
      "text/plain": [
       "<Figure size 432x288 with 1 Axes>"
      ]
     },
     "metadata": {
      "needs_background": "light"
     },
     "output_type": "display_data"
    }
   ],
   "source": [
    "# Repeating the experiment with sample size n = 30\n",
    "np.random.seed(1)\n",
    "n = 30\n",
    "sample_means = []\n",
    "\n",
    "for j in range(500):\n",
    "#     selecting 5 observations randomly from the sample\n",
    "    sample = np.random.choice(uniform_pop, size=n)\n",
    "#     calculating the mean of those 5 observations\n",
    "    sample_mean = np.mean(sample)\n",
    "#     appending these means to the list sample_means\n",
    "    sample_means.append(sample_mean)\n",
    "\n",
    "sns.distplot(sample_means, kde=True)\n",
    "plt.title('Distribution of sample means for n=30')\n",
    "plt.xlabel('Sample Means')\n",
    "plt.ylabel('Count')\n",
    "plt.show()\n"
   ]
  },
  {
   "cell_type": "code",
   "execution_count": 32,
   "metadata": {},
   "outputs": [
    {
     "data": {
      "image/png": "[encoded data removed]",
      "text/plain": [
       "<Figure size 432x288 with 1 Axes>"
      ]
     },
     "metadata": {
      "needs_background": "light"
     },
     "output_type": "display_data"
    }
   ],
   "source": [
    "# Repeating the experiment with sample size n = 50\n",
    "np.random.seed(1)\n",
    "n = 50\n",
    "sample_means = []\n",
    "\n",
    "for j in range(500):\n",
    "#     selecting 5 observations randomly from the sample\n",
    "    sample = np.random.choice(uniform_pop, size=n)\n",
    "#     calculating the mean of those 5 observations\n",
    "    sample_mean = np.mean(sample)\n",
    "#     appending these means to the list sample_means\n",
    "    sample_means.append(sample_mean)\n",
    "\n",
    "sns.distplot(sample_means, kde=True)\n",
    "plt.title('Distribution of sample means for n=50')\n",
    "plt.xlabel('Sample Means')\n",
    "plt.ylabel('Count')\n",
    "plt.show()\n"
   ]
  },
  {
   "cell_type": "markdown",
   "metadata": {},
   "source": [
    "What the Central Limit Theorem looks like for an Exponential Distribution"
   ]
  },
  {
   "cell_type": "code",
   "execution_count": 34,
   "metadata": {},
   "outputs": [
    {
     "data": {
      "image/png": "[encoded data removed]",
      "text/plain": [
       "<Figure size 432x288 with 1 Axes>"
      ]
     },
     "metadata": {
      "needs_background": "light"
     },
     "output_type": "display_data"
    }
   ],
   "source": [
    "from scipy.stats import expon\n",
    "\n",
    "np.random.seed(1)\n",
    "exp_pop = expon.rvs(size = 100000)\n",
    "\n",
    "plt.hist(exp_pop, 200)\n",
    "plt.title('Exponential Distribution')\n",
    "plt.xlabel('X ~ Exp(1)')\n",
    "plt.ylabel('Count')\n",
    "plt.show()\n"
   ]
  },
  {
   "cell_type": "code",
   "execution_count": 36,
   "metadata": {},
   "outputs": [
    {
     "data": {
      "image/png": "[encoded data removed]",
      "text/plain": [
       "<Figure size 432x288 with 1 Axes>"
      ]
     },
     "metadata": {
      "needs_background": "light"
     },
     "output_type": "display_data"
    }
   ],
   "source": [
    "np.random.seed(1)\n",
    "n = 5\n",
    "sample_means = []\n",
    "\n",
    "for j in range(500):\n",
    "#     selecting 5 observations randomly from the sample\n",
    "    sample = np.random.choice(exp_pop, size=n)\n",
    "#     calculating the mean of those 5 observations\n",
    "    sample_mean = np.mean(sample)\n",
    "#     appending these means to the list sample_means\n",
    "    sample_means.append(sample_mean)\n",
    "\n",
    "sns.distplot(sample_means, kde=True)\n",
    "plt.title('Distribution of sample means for n=5')\n",
    "plt.xlabel('Sample Means')\n",
    "plt.ylabel('Count')\n",
    "plt.show()"
   ]
  },
  {
   "cell_type": "code",
   "execution_count": 37,
   "metadata": {},
   "outputs": [
    {
     "data": {
      "image/png": "[encoded data removed]",
      "text/plain": [
       "<Figure size 432x288 with 1 Axes>"
      ]
     },
     "metadata": {
      "needs_background": "light"
     },
     "output_type": "display_data"
    }
   ],
   "source": [
    "# Repeating the experiment with sample size n = 15\n",
    "np.random.seed(1)\n",
    "n = 15\n",
    "sample_means = []\n",
    "\n",
    "for j in range(500):\n",
    "#     selecting 5 observations randomly from the sample\n",
    "    sample = np.random.choice(exp_pop, size=n)\n",
    "#     calculating the mean of those 5 observations\n",
    "    sample_mean = np.mean(sample)\n",
    "#     appending these means to the list sample_means\n",
    "    sample_means.append(sample_mean)\n",
    "\n",
    "sns.distplot(sample_means, kde=True)\n",
    "plt.title('Distribution of sample means for n=15')\n",
    "plt.xlabel('Sample Means')\n",
    "plt.ylabel('Count')\n",
    "plt.show()"
   ]
  },
  {
   "cell_type": "code",
   "execution_count": 38,
   "metadata": {},
   "outputs": [
    {
     "data": {
      "image/png": "[encoded data removed]",
      "text/plain": [
       "<Figure size 432x288 with 1 Axes>"
      ]
     },
     "metadata": {
      "needs_background": "light"
     },
     "output_type": "display_data"
    }
   ],
   "source": [
    "# Repeating the experiment with sample size n = 30\n",
    "np.random.seed(1)\n",
    "n = 30\n",
    "sample_means = []\n",
    "\n",
    "for j in range(500):\n",
    "#     selecting 5 observations randomly from the sample\n",
    "    sample = np.random.choice(exp_pop, size=n)\n",
    "#     calculating the mean of those 5 observations\n",
    "    sample_mean = np.mean(sample)\n",
    "#     appending these means to the list sample_means\n",
    "    sample_means.append(sample_mean)\n",
    "\n",
    "sns.distplot(sample_means, kde=True)\n",
    "plt.title('Distribution of sample means for n=30')\n",
    "plt.xlabel('Sample Means')\n",
    "plt.ylabel('Count')\n",
    "plt.show()"
   ]
  },
  {
   "cell_type": "code",
   "execution_count": 39,
   "metadata": {},
   "outputs": [
    {
     "data": {
      "image/png": "[encoded data removed]",
      "text/plain": [
       "<Figure size 432x288 with 1 Axes>"
      ]
     },
     "metadata": {
      "needs_background": "light"
     },
     "output_type": "display_data"
    }
   ],
   "source": [
    "# Repeating the experiment with sample size n = 50\n",
    "np.random.seed(1)\n",
    "n = 50\n",
    "sample_means = []\n",
    "\n",
    "for j in range(500):\n",
    "#     selecting 5 observations randomly from the sample\n",
    "    sample = np.random.choice(exp_pop, size=n)\n",
    "#     calculating the mean of those 5 observations\n",
    "    sample_mean = np.mean(sample)\n",
    "#     appending these means to the list sample_means\n",
    "    sample_means.append(sample_mean)\n",
    "\n",
    "sns.distplot(sample_means, kde=True)\n",
    "plt.title('Distribution of sample means for n=50')\n",
    "plt.xlabel('Sample Means')\n",
    "plt.ylabel('Count')\n",
    "plt.show()"
   ]
  },
  {
   "cell_type": "markdown",
   "metadata": {},
   "source": [
    "Point Estimation"
   ]
  },
  {
   "cell_type": "markdown",
   "metadata": {},
   "source": [
    "Damages (in terms of thousands of $) from 10 wildfire incidents <br>\n",
    "120, 55, 60, 10, 8, 150, 44, 58, 62, 123 <br>\n",
    "What is the estimate of the average amount of damage <br>"
   ]
  },
  {
   "cell_type": "code",
   "execution_count": 2,
   "metadata": {},
   "outputs": [
    {
     "data": {
      "text/plain": [
       "69.0"
      ]
     },
     "execution_count": 2,
     "metadata": {},
     "output_type": "execute_result"
    }
   ],
   "source": [
    "sample = np.array([120, 55, 60, 10, 8, 150, 44, 58, 62, 123])\n",
    "x_bar = np.mean(sample)\n",
    "x_bar\n",
    "\n",
    "# 69K is the point estimate of the damage caused by a wildfire\n",
    "# Point estimates are not useful unless we account for the uncertainty around the estimate- this is when confidence intervals come into play"
   ]
  },
  {
   "cell_type": "markdown",
   "metadata": {},
   "source": [
    "Caffeine content in a random sample of 50 cups of black coffee dispensed by a new coffee machine <br>\n",
    "Mean of the sample = 110 mg <br>\n",
    "Standard deviation from all machines of the manufacturer = 7 mg <br>\n",
    "Construct a 95% confidence interval for mu, the mean caffeine content for cups dispensed by the machine <br>"
   ]
  },
  {
   "cell_type": "code",
   "execution_count": 3,
   "metadata": {},
   "outputs": [
    {
     "data": {
      "text/plain": [
       "array([108.06, 111.94])"
      ]
     },
     "execution_count": 3,
     "metadata": {},
     "output_type": "execute_result"
    }
   ],
   "source": [
    "from scipy.stats import norm\n",
    "\n",
    "# set the values of sample mean and sigma\n",
    "x_bar, sigma = 110, 7\n",
    "\n",
    "# set the value of the sample size\n",
    "n = 50\n",
    "\n",
    "# standard error around x_bar = sigma/sqrt(n)\n",
    "\n",
    "# construct the confidence interval\n",
    "np.round(norm.interval(0.95, loc= x_bar, scale= sigma/np.sqrt(n)), 2)\n",
    "\n",
    "# This takes into account the variability in the data\n",
    "# variability in each observation = sigma\n",
    "# variabliliy around x_bar = sigma/sqrt(n)\n",
    "# standard deviation applies to each point in the dataset\n",
    "# standard error applies to the average of the points\n",
    "\n",
    "# Insight: with 95% confidence, the population mean lies between 108.06 and 111.94"
   ]
  },
  {
   "cell_type": "markdown",
   "metadata": {},
   "source": [
    "Above example is when we know the population standard deviation. But that's almost never the case. <br>\n",
    "When we do not know the population standard deviation, it can be estimated from the sample. <br>\n",
    "In this case, the sample mean follows Student's t distribution with n-1 degrees of freedom. <br>\n",
    "t distribution is similar to the normal distribution for very large degrees of freedom"
   ]
  },
  {
   "cell_type": "code",
   "execution_count": 4,
   "metadata": {},
   "outputs": [
    {
     "data": {
      "text/plain": [
       "array([108.01, 111.99])"
      ]
     },
     "execution_count": 4,
     "metadata": {},
     "output_type": "execute_result"
    }
   ],
   "source": [
    "# same example as above assuming that 7 is the sample standard deviation\n",
    "from scipy.stats import t\n",
    "\n",
    "x_bar, s = 110, 7\n",
    "n = 50\n",
    "k = n-1\n",
    "\n",
    "np.round(t.interval(0.95, df=k, loc= x_bar, scale= s/np.sqrt(n)), 2)\n",
    "# The intervals are the same as before - because sample size is greater than 30"
   ]
  },
  {
   "cell_type": "markdown",
   "metadata": {},
   "source": [
    "A random sample of 100 men is taken and their mean height is found to be 180 cm. <br>\n",
    "The population variance is 36 cm2. <br>\n",
    "Find the 95% confidence interval for the mean height of the population(μ)."
   ]
  },
  {
   "cell_type": "code",
   "execution_count": 6,
   "metadata": {},
   "outputs": [
    {
     "data": {
      "text/plain": [
       "array([178.82, 181.18])"
      ]
     },
     "execution_count": 6,
     "metadata": {},
     "output_type": "execute_result"
    }
   ],
   "source": [
    "n = 100\n",
    "x_bar = 180\n",
    "sigma = 6\n",
    "np.round(norm.interval(0.95, loc= x_bar, scale= sigma/np.sqrt(n)), 2)"
   ]
  },
  {
   "cell_type": "markdown",
   "metadata": {},
   "source": [
    "A landlord wants to rent an unfurnished one-bedroom apartment in Chicago. <br>\n",
    "The mean monthly rent for a random sample of 100 apartments advertised on a website that lists apartments in Chicago for rent is $1000. <br>\n",
    "Assume a population standard deviation of $200. <br>\n",
    "Construct a 95% confidence interval for the mean rent."
   ]
  },
  {
   "cell_type": "code",
   "execution_count": 7,
   "metadata": {},
   "outputs": [
    {
     "data": {
      "text/plain": [
       "array([ 960.8, 1039.2])"
      ]
     },
     "execution_count": 7,
     "metadata": {},
     "output_type": "execute_result"
    }
   ],
   "source": [
    "n = 100\n",
    "x_bar = 1000\n",
    "sigma = 200\n",
    "np.round(norm.interval(0.95, loc= x_bar, scale= sigma/np.sqrt(n)), 2)"
   ]
  },
  {
   "cell_type": "markdown",
   "metadata": {},
   "source": [
    "A survey of females aged 16-60 years was conducted by the Department of Population Censuses (DPC), it was found that a sample of fifty female students has a mean height of 160.9 cm with a standard deviation of 6 cm. <br>\n",
    "Determine the confidence interval of height with a confidence level of 95% and conclude whether their heights are typical of the general population?"
   ]
  },
  {
   "cell_type": "code",
   "execution_count": 8,
   "metadata": {},
   "outputs": [
    {
     "data": {
      "text/plain": [
       "array([159.19, 162.61])"
      ]
     },
     "execution_count": 8,
     "metadata": {},
     "output_type": "execute_result"
    }
   ],
   "source": [
    "n = 50\n",
    "x_bar = 160.9\n",
    "s = 6\n",
    "k = n-1\n",
    "\n",
    "np.round(t.interval(0.95, df=k, loc= x_bar, scale= s/np.sqrt(n)), 2)"
   ]
  }
 ],
 "metadata": {
  "kernelspec": {
   "display_name": "Python 3",
   "language": "python",
   "name": "python3"
  },
  "language_info": {
   "codemirror_mode": {
    "name": "ipython",
    "version": 3
   },
   "file_extension": ".py",
   "mimetype": "text/x-python",
   "name": "python",
   "nbconvert_exporter": "python",
   "pygments_lexer": "ipython3",
   "version": "3.7.4"
  }
 },
 "nbformat": 4,
 "nbformat_minor": 4
}
