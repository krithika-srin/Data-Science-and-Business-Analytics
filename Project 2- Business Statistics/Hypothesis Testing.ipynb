{
 "cells": [
  {
   "cell_type": "markdown",
   "metadata": {},
   "source": [
    "# Hypothesis Testing"
   ]
  },
  {
   "cell_type": "markdown",
   "metadata": {},
   "source": [
    "Key Ideas <br>\n",
    "<br>\n",
    "Type 1 error (false positive)- Rejecting the null hypothesis when it is true <br>\n",
    "Type 2 error (false negative)- failing to reject the null hypothesis when it is false <br>\n",
    "<br>\n",
    "Level of significance (alpha)- how wrong we are allowing ourselves to be <br>\n",
    "alpha = probability of rejecting the null hypothesis when it is true- type 1 error <br>\n",
    "alpha is fixed before the hypothesis test <br>\n",
    "alpha does not depend on the data <br>\n",
    "alpha is mostly 0.05 (5%) <br>\n",
    "<br>\n",
    "p-value- how likely is it that the null hypothesis is true <br>\n",
    "If p-value is small, we will reject the null hypothesis <br>\n",
    "p-value depends on the sample data <br>\n",
    "<br>\n",
    "Rejection region- reject the null hypothesis when the test statistic lies in the rejection region <br>\n",
    "Else, we fail to reject it"
   ]
  },
  {
   "cell_type": "markdown",
   "metadata": {},
   "source": [
    "Example <br>\n",
    "It is known from experience that for a certain E-commerce company the mean delivery time is 5 days with a standard <br>\n",
    "deviation of 1.3 days <br>\n",
    "New manager is afraid that the company is slipping and collects a random sample of 45 orders <br>\n",
    "Mean delivery time of these samples comes out to be 5.25 days <br>\n",
    "<br>\n",
    "Is there enough statistical evidence for the manager's apprehension that the mean delivery time is greater than 5 days?\n"
   ]
  },
  {
   "cell_type": "markdown",
   "metadata": {},
   "source": [
    "Assumptions: <br>\n",
    "Data is continuous (time) <br>\n",
    "Normal distribution because sample size is greater than 30 <br>\n",
    "Known population standard deviation - this is to simplify the problem, usually not the case <br>\n",
    "Random sampling from the population "
   ]
  },
  {
   "cell_type": "code",
   "execution_count": 1,
   "metadata": {},
   "outputs": [],
   "source": [
    "import pandas as pd\n",
    "import numpy as np\n",
    "import seaborn as sns\n",
    "import matplotlib.pyplot as plt\n",
    "import scipy.stats"
   ]
  },
  {
   "cell_type": "code",
   "execution_count": 4,
   "metadata": {},
   "outputs": [
    {
     "data": {
      "text/plain": [
       "1.2900392177883402"
      ]
     },
     "execution_count": 4,
     "metadata": {},
     "output_type": "execute_result"
    }
   ],
   "source": [
    "# Test statistic distribution- Standard Normal distribution\n",
    "# When the population standard deviation is known - Z test\n",
    "\n",
    "# H0: mu = 5 \n",
    "# H1: mu > 5\n",
    "\n",
    "mu = 5\n",
    "sigma = 1.3\n",
    "\n",
    "x_bar = 5.25\n",
    "\n",
    "# Calculate the test statistic (AKA Z-score)\n",
    "test_stat = (x_bar - mu)/(sigma/np.sqrt(45)) \n",
    "test_stat\n",
    "\n",
    "# This means that the x_bar (5.25) is test_stat (1.29) standard deviations away from mu (5)"
   ]
  },
  {
   "cell_type": "code",
   "execution_count": 5,
   "metadata": {},
   "outputs": [
    {
     "data": {
      "image/png": "[encoded data removed]",
      "text/plain": [
       "<Figure size 432x288 with 1 Axes>"
      ]
     },
     "metadata": {
      "needs_background": "light"
     },
     "output_type": "display_data"
    }
   ],
   "source": [
    "# Plotting the distribution of Z test statistic along with the test_statistic value\n",
    "\n",
    "from scipy.stats import norm\n",
    "\n",
    "x = np.linspace(-4, 4, 100)\n",
    "plt.plot(x, norm.pdf(x, 0, 1))\n",
    "plt.axvline(x = test_stat, c = 'r')\n",
    "plt.show()"
   ]
  },
  {
   "cell_type": "code",
   "execution_count": 6,
   "metadata": {},
   "outputs": [
    {
     "data": {
      "text/plain": [
       "0.09851852092578695"
      ]
     },
     "execution_count": 6,
     "metadata": {},
     "output_type": "execute_result"
    }
   ],
   "source": [
    "# What is the probability of the standard deviation being more than 1.29? --9.8%\n",
    "\n",
    "1 - norm.cdf(test_stat)\n",
    "\n",
    "# This means that if the null hypothesis were true (mu = 5), the chance of seeing 5.25 or more is about 10%"
   ]
  },
  {
   "cell_type": "markdown",
   "metadata": {},
   "source": [
    "Though the probability is very small, is it significant enough to reject the null hypothesis?"
   ]
  },
  {
   "cell_type": "markdown",
   "metadata": {},
   "source": [
    "Rejection Region Approach <br>\n",
    "Rejection region- this is how large my result is allowed to be by pure chance. If it is more, the null hypothesis <br>\n",
    "should be rejected. <br>\n",
    "<br>\n",
    "We need to set the level of significance (alpha) for this approach <br>\n",
    "To find the rejection region, we need to find the value of Z (critical value) that gives an area of alpha to the right end"
   ]
  },
  {
   "cell_type": "code",
   "execution_count": 13,
   "metadata": {},
   "outputs": [
    {
     "data": {
      "text/plain": [
       "1.6448536269514722"
      ]
     },
     "execution_count": 13,
     "metadata": {},
     "output_type": "execute_result"
    }
   ],
   "source": [
    "from scipy.stats import norm\n",
    "\n",
    "# Find the critical value\n",
    "critical_val = norm.ppf(1-0.05)\n",
    "critical_val\n",
    "# this means the chance of being above this number is 5% under the null hypothesis"
   ]
  },
  {
   "cell_type": "code",
   "execution_count": 15,
   "metadata": {},
   "outputs": [
    {
     "data": {
      "image/png": "[encoded data removed]",
      "text/plain": [
       "<Figure size 432x288 with 1 Axes>"
      ]
     },
     "metadata": {
      "needs_background": "light"
     },
     "output_type": "display_data"
    }
   ],
   "source": [
    "# plotting the test statistic distribution and indicating the acceptance and rejection region\n",
    "\n",
    "x = np.linspace(-4, 4, 100)\n",
    "plt.plot(x, norm.pdf(x,0,1))\n",
    "plt.axvline(x = critical_val, c ='r')\n",
    "x1 = np.linspace(critical_val, 4, 50)\n",
    "plt.fill_between(x1, norm.pdf(x1, 0, 1), color = 'r')\n",
    "plt.show()"
   ]
  },
  {
   "cell_type": "markdown",
   "metadata": {},
   "source": [
    "Our test statistic (1.29) is not in the rejection region, so we cannot reject the null hypothesis <br>\n",
    "Thus, we do not have enough statistical evidence to say that the mean delivery time is greater than 5 days"
   ]
  },
  {
   "cell_type": "markdown",
   "metadata": {},
   "source": [
    "p-value Approach <br>\n",
    "p-value measures the strength of evidence against the null hypothesis <br>\n",
    "<br>\n",
    "For this approach: <br>\n",
    "Choose a level of significance (alpha) <br>\n",
    "Calculate the p-value <br>\n",
    "If p-value <= alpha, reject the null hypothesis"
   ]
  },
  {
   "cell_type": "code",
   "execution_count": 16,
   "metadata": {},
   "outputs": [
    {
     "data": {
      "text/plain": [
       "0.09851852092578695"
      ]
     },
     "execution_count": 16,
     "metadata": {},
     "output_type": "execute_result"
    }
   ],
   "source": [
    "# Calculate the p-value\n",
    "1 - norm.cdf(test_stat)"
   ]
  },
  {
   "cell_type": "markdown",
   "metadata": {},
   "source": [
    "0.098 is greater than 0.05 - so, do not reject the null hypothesis"
   ]
  },
  {
   "cell_type": "markdown",
   "metadata": {},
   "source": [
    "Two-tailed Test Example"
   ]
  },
  {
   "cell_type": "markdown",
   "metadata": {},
   "source": [
    "Suppose you work in the quality control team of coke. It is known from experience that the mean amount of coke in a <br>\n",
    "bottle is 600 ml with a standard deviation of 50 ml. <br>\n",
    "You have collected 36 randomly sampled bottles. Mean amount of coke in the 36 samples is 580 ml. <br>\n",
    "Test whether the amount of coke in the bottle is different than 600 ml using 0.05 level of significance."
   ]
  },
  {
   "cell_type": "code",
   "execution_count": 24,
   "metadata": {},
   "outputs": [
    {
     "data": {
      "text/plain": [
       "-2.4"
      ]
     },
     "execution_count": 24,
     "metadata": {},
     "output_type": "execute_result"
    }
   ],
   "source": [
    "mu = 600\n",
    "sigma = 50\n",
    "\n",
    "x_bar = 580\n",
    "\n",
    "# Calculate the test statistic (AKA Z-score)\n",
    "test_stat = (x_bar - mu)/(sigma/np.sqrt(36)) \n",
    "test_stat"
   ]
  },
  {
   "cell_type": "code",
   "execution_count": 23,
   "metadata": {},
   "outputs": [
    {
     "data": {
      "image/png": "[encoded data removed]",
      "text/plain": [
       "<Figure size 432x288 with 1 Axes>"
      ]
     },
     "metadata": {
      "needs_background": "light"
     },
     "output_type": "display_data"
    }
   ],
   "source": [
    "from scipy.stats import norm\n",
    "\n",
    "critical_val1 = norm.ppf(1-(0.05/2))\n",
    "critical_val2 = norm.ppf(0.05/2)\n",
    "\n",
    "x = np.linspace(-4,4,100)\n",
    "\n",
    "plt.plot(x, norm.pdf(x, 0, 1))\n",
    "plt.axvline(x = critical_val1, c = 'r')\n",
    "plt.axvline(x = critical_val2, c = 'r')\n",
    "\n",
    "x1 = np.linspace(2, 4, 50)\n",
    "plt.fill_between(x1, norm.pdf(x1,0,1), color = 'r')\n",
    "\n",
    "x2 = np.linspace(-2, -4, 50)\n",
    "plt.fill_between(x2, norm.pdf(x2,0,1), color = 'r')\n",
    "plt.show()"
   ]
  },
  {
   "cell_type": "markdown",
   "metadata": {},
   "source": [
    "-2.4 lies in the rejection region- we can reject the null hypothesis"
   ]
  },
  {
   "cell_type": "code",
   "execution_count": null,
   "metadata": {},
   "outputs": [],
   "source": []
  }
 ],
 "metadata": {
  "kernelspec": {
   "display_name": "Python 3",
   "language": "python",
   "name": "python3"
  },
  "language_info": {
   "codemirror_mode": {
    "name": "ipython",
    "version": 3
   },
   "file_extension": ".py",
   "mimetype": "text/x-python",
   "name": "python",
   "nbconvert_exporter": "python",
   "pygments_lexer": "ipython3",
   "version": "3.7.4"
  }
 },
 "nbformat": 4,
 "nbformat_minor": 4
}
